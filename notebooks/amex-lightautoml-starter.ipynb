{
 "cells": [
  {
   "cell_type": "code",
   "execution_count": 1,
   "id": "54b73232",
   "metadata": {
    "_kg_hide-input": true,
    "_kg_hide-output": true,
    "execution": {
     "iopub.execute_input": "2022-06-06T15:43:03.140695Z",
     "iopub.status.busy": "2022-06-06T15:43:03.139945Z",
     "iopub.status.idle": "2022-06-06T15:43:03.161559Z",
     "shell.execute_reply": "2022-06-06T15:43:03.160866Z"
    },
    "papermill": {
     "duration": 0.040449,
     "end_time": "2022-06-06T15:43:03.163723",
     "exception": false,
     "start_time": "2022-06-06T15:43:03.123274",
     "status": "completed"
    },
    "tags": []
   },
   "outputs": [
    {
     "data": {
      "text/html": [
       "<style> \n",
       "\n",
       "div #notebook {\n",
       "background-color: white;\n",
       "line-height: 20px;\n",
       "}\n",
       "\n",
       "#notebook-container {\n",
       "width: 95%;\n",
       "margin-top: 2em;\n",
       "padding-top: 2em;\n",
       "border-top: 4px solid #16a085; /* light orange */\n",
       "-webkit-box-shadow: 0px 0px 8px 2px rgba(224, 212, 226, 0.5); /* pink */\n",
       "    box-shadow: 0px 0px 8px 2px rgba(224, 212, 226, 0.5); /* pink */\n",
       "}\n",
       "\n",
       "div .input {\n",
       "margin-bottom: 1em;\n",
       "}\n",
       "\n",
       ".rendered_html h1, .rendered_html h2, .rendered_html h3, .rendered_html h4, .rendered_html h5, .rendered_html h6 {\n",
       "color: #16a085; /* light orange */\n",
       "font-weight: 600;\n",
       "}\n",
       "\n",
       "div.input_area {\n",
       "border: none;\n",
       "    background-color: rgba(22, 160, 133, 0.1); /* rgba(229, 143, 101, 0.1); light orange [exactly #E58F65] */\n",
       "    border-top: 2px solid #16a085; /* light orange */\n",
       "}\n",
       "\n",
       "div.input_prompt {\n",
       "color: #16a085; /* light blue */\n",
       "}\n",
       "\n",
       "div.output_prompt {\n",
       "color: #0b5345; /* strong orange */\n",
       "}\n",
       "\n",
       "div.cell.selected:before, div.cell.selected.jupyter-soft-selected:before {\n",
       "background: #16a085; /* light orange */\n",
       "}\n",
       "\n",
       "div.cell.selected, div.cell.selected.jupyter-soft-selected {\n",
       "    border-color: #16a085; /* light orange */\n",
       "}\n",
       "\n",
       ".edit_mode div.cell.selected:before {\n",
       "background: #16a085; /* light orange */\n",
       "}\n",
       "\n",
       ".edit_mode div.cell.selected {\n",
       "border-color: #16a085; /* light orange */\n",
       "\n",
       "}\n",
       "</style>"
      ],
      "text/plain": [
       "<IPython.core.display.HTML object>"
      ]
     },
     "execution_count": 1,
     "metadata": {},
     "output_type": "execute_result"
    }
   ],
   "source": [
    "from IPython.core.display import display, HTML, Javascript\n",
    "\n",
    "# ----- Notebook Theme -----\n",
    "color_map = ['#16a085', '#e8f6f3', '#d0ece7', '#a2d9ce', '#73c6b6', '#45b39d', \n",
    "                        '#16a085', '#138d75', '#117a65', '#0e6655', '#0b5345']\n",
    "\n",
    "prompt = color_map[-1]\n",
    "main_color = color_map[0]\n",
    "strong_main_color = color_map[1]\n",
    "custom_colors = [strong_main_color, main_color]\n",
    "\n",
    "css_file = ''' \n",
    "\n",
    "div #notebook {\n",
    "background-color: white;\n",
    "line-height: 20px;\n",
    "}\n",
    "\n",
    "#notebook-container {\n",
    "%s\n",
    "margin-top: 2em;\n",
    "padding-top: 2em;\n",
    "border-top: 4px solid %s; /* light orange */\n",
    "-webkit-box-shadow: 0px 0px 8px 2px rgba(224, 212, 226, 0.5); /* pink */\n",
    "    box-shadow: 0px 0px 8px 2px rgba(224, 212, 226, 0.5); /* pink */\n",
    "}\n",
    "\n",
    "div .input {\n",
    "margin-bottom: 1em;\n",
    "}\n",
    "\n",
    ".rendered_html h1, .rendered_html h2, .rendered_html h3, .rendered_html h4, .rendered_html h5, .rendered_html h6 {\n",
    "color: %s; /* light orange */\n",
    "font-weight: 600;\n",
    "}\n",
    "\n",
    "div.input_area {\n",
    "border: none;\n",
    "    background-color: %s; /* rgba(229, 143, 101, 0.1); light orange [exactly #E58F65] */\n",
    "    border-top: 2px solid %s; /* light orange */\n",
    "}\n",
    "\n",
    "div.input_prompt {\n",
    "color: %s; /* light blue */\n",
    "}\n",
    "\n",
    "div.output_prompt {\n",
    "color: %s; /* strong orange */\n",
    "}\n",
    "\n",
    "div.cell.selected:before, div.cell.selected.jupyter-soft-selected:before {\n",
    "background: %s; /* light orange */\n",
    "}\n",
    "\n",
    "div.cell.selected, div.cell.selected.jupyter-soft-selected {\n",
    "    border-color: %s; /* light orange */\n",
    "}\n",
    "\n",
    ".edit_mode div.cell.selected:before {\n",
    "background: %s; /* light orange */\n",
    "}\n",
    "\n",
    ".edit_mode div.cell.selected {\n",
    "border-color: %s; /* light orange */\n",
    "\n",
    "}\n",
    "'''\n",
    "def to_rgb(h): \n",
    "    return tuple(int(h[i:i+2], 16) for i in [0, 2, 4])\n",
    "\n",
    "main_color_rgba = 'rgba(%s, %s, %s, 0.1)' % (to_rgb(main_color[1:]))\n",
    "open('notebook.css', 'w').write(css_file % ('width: 95%;', main_color, main_color, main_color_rgba, main_color,  main_color, prompt, main_color, main_color, main_color, main_color))\n",
    "\n",
    "def nb(): \n",
    "    return HTML(\"<style>\" + open(\"notebook.css\", \"r\").read() + \"</style>\")\n",
    "nb()"
   ]
  },
  {
   "cell_type": "markdown",
   "id": "6cc01851",
   "metadata": {
    "papermill": {
     "duration": 0.012211,
     "end_time": "2022-06-06T15:43:03.188700",
     "exception": false,
     "start_time": "2022-06-06T15:43:03.176489",
     "status": "completed"
    },
    "tags": []
   },
   "source": [
    "<img src=\"https://github.com/AILab-MLTools/LightAutoML/raw/master/imgs/LightAutoML_logo_big.png\" alt=\"LightAutoML logo\" style=\"width:70%;\"/>"
   ]
  },
  {
   "cell_type": "markdown",
   "id": "21acda8d",
   "metadata": {
    "papermill": {
     "duration": 0.012252,
     "end_time": "2022-06-06T15:43:03.213485",
     "exception": false,
     "start_time": "2022-06-06T15:43:03.201233",
     "status": "completed"
    },
    "tags": []
   },
   "source": [
    "# LightAutoML baseline\n",
    "\n",
    "Official LightAutoML github repository is [here](https://github.com/AILab-MLTools/LightAutoML). \n",
    "\n",
    "### Do not forget to put upvote for the notebook and the ⭐️ for github repo if you like it - one click for you, great pleasure for us ☺️ "
   ]
  },
  {
   "cell_type": "code",
   "execution_count": 2,
   "id": "c4caede7",
   "metadata": {
    "_kg_hide-input": true,
    "execution": {
     "iopub.execute_input": "2022-06-06T15:43:03.240977Z",
     "iopub.status.busy": "2022-06-06T15:43:03.240260Z",
     "iopub.status.idle": "2022-06-06T15:43:03.250401Z",
     "shell.execute_reply": "2022-06-06T15:43:03.248924Z"
    },
    "papermill": {
     "duration": 0.02618,
     "end_time": "2022-06-06T15:43:03.252324",
     "exception": false,
     "start_time": "2022-06-06T15:43:03.226144",
     "status": "completed"
    },
    "tags": []
   },
   "outputs": [
    {
     "name": "stderr",
     "output_type": "stream",
     "text": [
      "/opt/conda/lib/python3.7/site-packages/IPython/core/display.py:724: UserWarning: Consider using IPython.display.IFrame instead\n",
      "  warnings.warn(\"Consider using IPython.display.IFrame instead\")\n"
     ]
    },
    {
     "data": {
      "text/html": [
       "<iframe src=\"https://ghbtns.com/github-btn.html?user=sb-ai-lab&repo=LightAutoML&type=star&count=true&size=large\" frameborder=\"0\" scrolling=\"0\" width=\"170\" height=\"30\" title=\"LightAutoML GitHub\"></iframe>"
      ],
      "text/plain": [
       "<IPython.core.display.HTML object>"
      ]
     },
     "execution_count": 2,
     "metadata": {},
     "output_type": "execute_result"
    }
   ],
   "source": [
    "s = '<iframe src=\"https://ghbtns.com/github-btn.html?user=sb-ai-lab&repo=LightAutoML&type=star&count=true&size=large\" frameborder=\"0\" scrolling=\"0\" width=\"170\" height=\"30\" title=\"LightAutoML GitHub\"></iframe>'\n",
    "HTML(s)"
   ]
  },
  {
   "cell_type": "markdown",
   "id": "d5fdf6a4",
   "metadata": {
    "papermill": {
     "duration": 0.012712,
     "end_time": "2022-06-06T15:43:03.278050",
     "exception": false,
     "start_time": "2022-06-06T15:43:03.265338",
     "status": "completed"
    },
    "tags": []
   },
   "source": [
    "## This notebook is the updated copy of our [Tutorial_1 from the GIT repository](https://github.com/AILab-MLTools/LightAutoML/blob/master/examples/tutorials/Tutorial_1_basics.ipynb). Please check our [tutorials folder](https://github.com/AILab-MLTools/LightAutoML/blob/master/examples/tutorials) if you are interested in other examples of LightAutoML functionality."
   ]
  },
  {
   "cell_type": "markdown",
   "id": "cfb88940",
   "metadata": {
    "papermill": {
     "duration": 0.012515,
     "end_time": "2022-06-06T15:43:03.303985",
     "exception": false,
     "start_time": "2022-06-06T15:43:03.291470",
     "status": "completed"
    },
    "tags": []
   },
   "source": [
    "## 0. Prerequisites"
   ]
  },
  {
   "cell_type": "markdown",
   "id": "5551668a",
   "metadata": {
    "papermill": {
     "duration": 0.012491,
     "end_time": "2022-06-06T15:43:03.329266",
     "exception": false,
     "start_time": "2022-06-06T15:43:03.316775",
     "status": "completed"
    },
    "tags": []
   },
   "source": [
    "### 0.0. install LightAutoML"
   ]
  },
  {
   "cell_type": "code",
   "execution_count": 3,
   "id": "733c6fd4",
   "metadata": {
    "_kg_hide-output": true,
    "execution": {
     "iopub.execute_input": "2022-06-06T15:43:03.358036Z",
     "iopub.status.busy": "2022-06-06T15:43:03.357365Z",
     "iopub.status.idle": "2022-06-06T15:45:36.848489Z",
     "shell.execute_reply": "2022-06-06T15:45:36.846530Z"
    },
    "papermill": {
     "duration": 153.511811,
     "end_time": "2022-06-06T15:45:36.854286",
     "exception": false,
     "start_time": "2022-06-06T15:43:03.342475",
     "status": "completed"
    },
    "scrolled": true,
    "tags": []
   },
   "outputs": [],
   "source": [
    "%%capture\n",
    "!pip3 install -U lightautoml\n",
    "\n",
    "# QUICK WORKAROUND FOR PROBLEM WITH PANDAS\n",
    "!pip3 install -U pandas"
   ]
  },
  {
   "cell_type": "markdown",
   "id": "b04a3561",
   "metadata": {
    "papermill": {
     "duration": 0.013088,
     "end_time": "2022-06-06T15:45:36.883658",
     "exception": false,
     "start_time": "2022-06-06T15:45:36.870570",
     "status": "completed"
    },
    "tags": []
   },
   "source": [
    "### 0.1. Import libraries\n",
    "\n",
    "Here we will import the libraries we use in this kernel:\n",
    "- Standard python libraries for timing, working with OS etc.\n",
    "- Essential python DS libraries like numpy, pandas, scikit-learn and torch (the last we will use in the next cell)\n",
    "- LightAutoML modules: `TabularAutoML` preset for AutoML model creation and Task class to setup what kind of ML problem we solve (binary/multiclass classification or regression)"
   ]
  },
  {
   "cell_type": "code",
   "execution_count": 4,
   "id": "2250e606",
   "metadata": {
    "execution": {
     "iopub.execute_input": "2022-06-06T15:45:36.913566Z",
     "iopub.status.busy": "2022-06-06T15:45:36.913018Z",
     "iopub.status.idle": "2022-06-06T15:45:40.127886Z",
     "shell.execute_reply": "2022-06-06T15:45:40.126550Z"
    },
    "papermill": {
     "duration": 3.233653,
     "end_time": "2022-06-06T15:45:40.130715",
     "exception": false,
     "start_time": "2022-06-06T15:45:36.897062",
     "status": "completed"
    },
    "tags": []
   },
   "outputs": [
    {
     "data": {
      "text/html": [
       "<style type='text/css'>\n",
       ".datatable table.frame { margin-bottom: 0; }\n",
       ".datatable table.frame thead { border-bottom: none; }\n",
       ".datatable table.frame tr.coltypes td {  color: #FFFFFF;  line-height: 6px;  padding: 0 0.5em;}\n",
       ".datatable .bool    { background: #DDDD99; }\n",
       ".datatable .object  { background: #565656; }\n",
       ".datatable .int     { background: #5D9E5D; }\n",
       ".datatable .float   { background: #4040CC; }\n",
       ".datatable .str     { background: #CC4040; }\n",
       ".datatable .time    { background: #40CC40; }\n",
       ".datatable .row_index {  background: var(--jp-border-color3);  border-right: 1px solid var(--jp-border-color0);  color: var(--jp-ui-font-color3);  font-size: 9px;}\n",
       ".datatable .frame tbody td { text-align: left; }\n",
       ".datatable .frame tr.coltypes .row_index {  background: var(--jp-border-color0);}\n",
       ".datatable th:nth-child(2) { padding-left: 12px; }\n",
       ".datatable .hellipsis {  color: var(--jp-cell-editor-border-color);}\n",
       ".datatable .vellipsis {  background: var(--jp-layout-color0);  color: var(--jp-cell-editor-border-color);}\n",
       ".datatable .na {  color: var(--jp-cell-editor-border-color);  font-size: 80%;}\n",
       ".datatable .sp {  opacity: 0.25;}\n",
       ".datatable .footer { font-size: 9px; }\n",
       ".datatable .frame_dimensions {  background: var(--jp-border-color3);  border-top: 1px solid var(--jp-border-color0);  color: var(--jp-ui-font-color3);  display: inline-block;  opacity: 0.6;  padding: 1px 10px 1px 5px;}\n",
       "</style>\n"
      ],
      "text/plain": [
       "<IPython.core.display.HTML object>"
      ]
     },
     "metadata": {},
     "output_type": "display_data"
    }
   ],
   "source": [
    "# Standard python libraries\n",
    "import os\n",
    "import time\n",
    "\n",
    "# Essential DS libraries\n",
    "import numpy as np\n",
    "import pandas as pd\n",
    "import torch\n",
    "\n",
    "# LightAutoML presets, task and report generation\n",
    "from lightautoml.automl.presets.tabular_presets import TabularAutoML\n",
    "from lightautoml.tasks import Task"
   ]
  },
  {
   "cell_type": "markdown",
   "id": "ea1eaedd",
   "metadata": {
    "papermill": {
     "duration": 0.012931,
     "end_time": "2022-06-06T15:45:40.156816",
     "exception": false,
     "start_time": "2022-06-06T15:45:40.143885",
     "status": "completed"
    },
    "tags": []
   },
   "source": [
    "### 0.2. Constants\n",
    "\n",
    "Here we setup the constants to use in the kernel:\n",
    "- `N_THREADS` - number of vCPUs for LightAutoML model creation\n",
    "- `N_FOLDS` - number of folds in LightAutoML inner CV\n",
    "- `RANDOM_STATE` - random seed for better reproducibility\n",
    "- `TEST_SIZE` - houldout data part size \n",
    "- `TIMEOUT` - limit in seconds for model to train\n",
    "- `TARGET_NAME` - target column name in dataset"
   ]
  },
  {
   "cell_type": "code",
   "execution_count": 5,
   "id": "4e053abc",
   "metadata": {
    "execution": {
     "iopub.execute_input": "2022-06-06T15:45:40.185984Z",
     "iopub.status.busy": "2022-06-06T15:45:40.185327Z",
     "iopub.status.idle": "2022-06-06T15:45:40.191061Z",
     "shell.execute_reply": "2022-06-06T15:45:40.190076Z"
    },
    "papermill": {
     "duration": 0.022738,
     "end_time": "2022-06-06T15:45:40.193120",
     "exception": false,
     "start_time": "2022-06-06T15:45:40.170382",
     "status": "completed"
    },
    "tags": []
   },
   "outputs": [],
   "source": [
    "N_THREADS = 4\n",
    "N_FOLDS = 5\n",
    "RANDOM_STATE = 42\n",
    "TEST_SIZE = 0.2\n",
    "TIMEOUT = 8 * 3600 # equal to 8 hours\n",
    "TARGET_NAME = 'target'"
   ]
  },
  {
   "cell_type": "markdown",
   "id": "80c6a528",
   "metadata": {
    "papermill": {
     "duration": 0.013015,
     "end_time": "2022-06-06T15:45:40.219239",
     "exception": false,
     "start_time": "2022-06-06T15:45:40.206224",
     "status": "completed"
    },
    "tags": []
   },
   "source": [
    "### 0.3. Imported models setup\n",
    "\n",
    "For better reproducibility fix numpy random seed with max number of threads for Torch (which usually try to use all the threads on server):"
   ]
  },
  {
   "cell_type": "code",
   "execution_count": 6,
   "id": "7c33fa3c",
   "metadata": {
    "execution": {
     "iopub.execute_input": "2022-06-06T15:45:40.247518Z",
     "iopub.status.busy": "2022-06-06T15:45:40.247025Z",
     "iopub.status.idle": "2022-06-06T15:45:40.284995Z",
     "shell.execute_reply": "2022-06-06T15:45:40.284069Z"
    },
    "papermill": {
     "duration": 0.055031,
     "end_time": "2022-06-06T15:45:40.287318",
     "exception": false,
     "start_time": "2022-06-06T15:45:40.232287",
     "status": "completed"
    },
    "tags": []
   },
   "outputs": [],
   "source": [
    "np.random.seed(RANDOM_STATE)\n",
    "torch.set_num_threads(N_THREADS)"
   ]
  },
  {
   "cell_type": "markdown",
   "id": "1e1b5623",
   "metadata": {
    "papermill": {
     "duration": 0.015372,
     "end_time": "2022-06-06T15:45:40.318930",
     "exception": false,
     "start_time": "2022-06-06T15:45:40.303558",
     "status": "completed"
    },
    "tags": []
   },
   "source": [
    "### 0.4. Data loading\n",
    "\n",
    "For now it's time to load the data:"
   ]
  },
  {
   "cell_type": "code",
   "execution_count": 7,
   "id": "dcd52065",
   "metadata": {
    "execution": {
     "iopub.execute_input": "2022-06-06T15:45:40.349196Z",
     "iopub.status.busy": "2022-06-06T15:45:40.348728Z",
     "iopub.status.idle": "2022-06-06T15:46:01.402114Z",
     "shell.execute_reply": "2022-06-06T15:46:01.400903Z"
    },
    "papermill": {
     "duration": 21.069789,
     "end_time": "2022-06-06T15:46:01.404390",
     "exception": false,
     "start_time": "2022-06-06T15:45:40.334601",
     "status": "completed"
    },
    "tags": []
   },
   "outputs": [
    {
     "name": "stdout",
     "output_type": "stream",
     "text": [
      "(458913, 920)\n"
     ]
    },
    {
     "data": {
      "text/html": [
       "<div>\n",
       "<style scoped>\n",
       "    .dataframe tbody tr th:only-of-type {\n",
       "        vertical-align: middle;\n",
       "    }\n",
       "\n",
       "    .dataframe tbody tr th {\n",
       "        vertical-align: top;\n",
       "    }\n",
       "\n",
       "    .dataframe thead th {\n",
       "        text-align: right;\n",
       "    }\n",
       "</style>\n",
       "<table border=\"1\" class=\"dataframe\">\n",
       "  <thead>\n",
       "    <tr style=\"text-align: right;\">\n",
       "      <th></th>\n",
       "      <th>customer_ID</th>\n",
       "      <th>P_2_mean</th>\n",
       "      <th>P_2_std</th>\n",
       "      <th>P_2_min</th>\n",
       "      <th>P_2_max</th>\n",
       "      <th>P_2_last</th>\n",
       "      <th>D_39_mean</th>\n",
       "      <th>D_39_std</th>\n",
       "      <th>D_39_min</th>\n",
       "      <th>D_39_max</th>\n",
       "      <th>...</th>\n",
       "      <th>D_64_count</th>\n",
       "      <th>D_64_last</th>\n",
       "      <th>D_64_nunique</th>\n",
       "      <th>D_66_count</th>\n",
       "      <th>D_66_last</th>\n",
       "      <th>D_66_nunique</th>\n",
       "      <th>D_68_count</th>\n",
       "      <th>D_68_last</th>\n",
       "      <th>D_68_nunique</th>\n",
       "      <th>target</th>\n",
       "    </tr>\n",
       "  </thead>\n",
       "  <tbody>\n",
       "    <tr>\n",
       "      <th>0</th>\n",
       "      <td>0000099d6bd597052cdcda90ffabf56573fe9d7c79be5f...</td>\n",
       "      <td>0.933594</td>\n",
       "      <td>0.024194</td>\n",
       "      <td>0.868652</td>\n",
       "      <td>0.960449</td>\n",
       "      <td>0.934570</td>\n",
       "      <td>0.010704</td>\n",
       "      <td>0.024440</td>\n",
       "      <td>0.001082</td>\n",
       "      <td>0.091492</td>\n",
       "      <td>...</td>\n",
       "      <td>13</td>\n",
       "      <td>O</td>\n",
       "      <td>1</td>\n",
       "      <td>0</td>\n",
       "      <td>NaN</td>\n",
       "      <td>0</td>\n",
       "      <td>13</td>\n",
       "      <td>6.0</td>\n",
       "      <td>1</td>\n",
       "      <td>0</td>\n",
       "    </tr>\n",
       "    <tr>\n",
       "      <th>1</th>\n",
       "      <td>00000fd6641609c6ece5454664794f0340ad84dddce9a2...</td>\n",
       "      <td>0.899902</td>\n",
       "      <td>0.022097</td>\n",
       "      <td>0.861328</td>\n",
       "      <td>0.929199</td>\n",
       "      <td>0.880371</td>\n",
       "      <td>0.215210</td>\n",
       "      <td>0.199123</td>\n",
       "      <td>0.002224</td>\n",
       "      <td>0.567383</td>\n",
       "      <td>...</td>\n",
       "      <td>13</td>\n",
       "      <td>O</td>\n",
       "      <td>1</td>\n",
       "      <td>0</td>\n",
       "      <td>NaN</td>\n",
       "      <td>0</td>\n",
       "      <td>13</td>\n",
       "      <td>6.0</td>\n",
       "      <td>1</td>\n",
       "      <td>0</td>\n",
       "    </tr>\n",
       "    <tr>\n",
       "      <th>2</th>\n",
       "      <td>00001b22f846c82c51f6e3958ccd81970162bae8b007e8...</td>\n",
       "      <td>0.878418</td>\n",
       "      <td>0.028837</td>\n",
       "      <td>0.797852</td>\n",
       "      <td>0.904297</td>\n",
       "      <td>0.880859</td>\n",
       "      <td>0.004181</td>\n",
       "      <td>0.002759</td>\n",
       "      <td>0.000802</td>\n",
       "      <td>0.009705</td>\n",
       "      <td>...</td>\n",
       "      <td>13</td>\n",
       "      <td>R</td>\n",
       "      <td>1</td>\n",
       "      <td>0</td>\n",
       "      <td>NaN</td>\n",
       "      <td>0</td>\n",
       "      <td>13</td>\n",
       "      <td>6.0</td>\n",
       "      <td>1</td>\n",
       "      <td>0</td>\n",
       "    </tr>\n",
       "    <tr>\n",
       "      <th>3</th>\n",
       "      <td>000041bdba6ecadd89a52d11886e8eaaec9325906c9723...</td>\n",
       "      <td>0.599121</td>\n",
       "      <td>0.020082</td>\n",
       "      <td>0.567383</td>\n",
       "      <td>0.623535</td>\n",
       "      <td>0.621582</td>\n",
       "      <td>0.048859</td>\n",
       "      <td>0.088490</td>\n",
       "      <td>0.000660</td>\n",
       "      <td>0.268555</td>\n",
       "      <td>...</td>\n",
       "      <td>13</td>\n",
       "      <td>O</td>\n",
       "      <td>1</td>\n",
       "      <td>0</td>\n",
       "      <td>NaN</td>\n",
       "      <td>0</td>\n",
       "      <td>13</td>\n",
       "      <td>3.0</td>\n",
       "      <td>3</td>\n",
       "      <td>0</td>\n",
       "    </tr>\n",
       "    <tr>\n",
       "      <th>4</th>\n",
       "      <td>00007889e4fcd2614b6cbe7f8f3d2e5c728eca32d9eb8a...</td>\n",
       "      <td>0.891602</td>\n",
       "      <td>0.042316</td>\n",
       "      <td>0.805176</td>\n",
       "      <td>0.940430</td>\n",
       "      <td>0.872070</td>\n",
       "      <td>0.004642</td>\n",
       "      <td>0.002883</td>\n",
       "      <td>0.000030</td>\n",
       "      <td>0.008682</td>\n",
       "      <td>...</td>\n",
       "      <td>13</td>\n",
       "      <td>O</td>\n",
       "      <td>1</td>\n",
       "      <td>13</td>\n",
       "      <td>1.0</td>\n",
       "      <td>1</td>\n",
       "      <td>13</td>\n",
       "      <td>6.0</td>\n",
       "      <td>1</td>\n",
       "      <td>0</td>\n",
       "    </tr>\n",
       "  </tbody>\n",
       "</table>\n",
       "<p>5 rows × 920 columns</p>\n",
       "</div>"
      ],
      "text/plain": [
       "                                         customer_ID  P_2_mean   P_2_std  \\\n",
       "0  0000099d6bd597052cdcda90ffabf56573fe9d7c79be5f...  0.933594  0.024194   \n",
       "1  00000fd6641609c6ece5454664794f0340ad84dddce9a2...  0.899902  0.022097   \n",
       "2  00001b22f846c82c51f6e3958ccd81970162bae8b007e8...  0.878418  0.028837   \n",
       "3  000041bdba6ecadd89a52d11886e8eaaec9325906c9723...  0.599121  0.020082   \n",
       "4  00007889e4fcd2614b6cbe7f8f3d2e5c728eca32d9eb8a...  0.891602  0.042316   \n",
       "\n",
       "    P_2_min   P_2_max  P_2_last  D_39_mean  D_39_std  D_39_min  D_39_max  ...  \\\n",
       "0  0.868652  0.960449  0.934570   0.010704  0.024440  0.001082  0.091492  ...   \n",
       "1  0.861328  0.929199  0.880371   0.215210  0.199123  0.002224  0.567383  ...   \n",
       "2  0.797852  0.904297  0.880859   0.004181  0.002759  0.000802  0.009705  ...   \n",
       "3  0.567383  0.623535  0.621582   0.048859  0.088490  0.000660  0.268555  ...   \n",
       "4  0.805176  0.940430  0.872070   0.004642  0.002883  0.000030  0.008682  ...   \n",
       "\n",
       "   D_64_count  D_64_last  D_64_nunique  D_66_count  D_66_last  D_66_nunique  \\\n",
       "0          13          O             1           0        NaN             0   \n",
       "1          13          O             1           0        NaN             0   \n",
       "2          13          R             1           0        NaN             0   \n",
       "3          13          O             1           0        NaN             0   \n",
       "4          13          O             1          13        1.0             1   \n",
       "\n",
       "   D_68_count  D_68_last  D_68_nunique  target  \n",
       "0          13        6.0             1       0  \n",
       "1          13        6.0             1       0  \n",
       "2          13        6.0             1       0  \n",
       "3          13        3.0             3       0  \n",
       "4          13        6.0             1       0  \n",
       "\n",
       "[5 rows x 920 columns]"
      ]
     },
     "execution_count": 7,
     "metadata": {},
     "output_type": "execute_result"
    }
   ],
   "source": [
    "train_data = pd.read_pickle('../input/amexaggdatapicklef32/train_agg_f32.pkl', compression=\"gzip\")\n",
    "print(train_data.shape)\n",
    "train_data.head()"
   ]
  },
  {
   "cell_type": "markdown",
   "id": "54471166",
   "metadata": {
    "papermill": {
     "duration": 0.013745,
     "end_time": "2022-06-06T15:46:01.432444",
     "exception": false,
     "start_time": "2022-06-06T15:46:01.418699",
     "status": "completed"
    },
    "tags": []
   },
   "source": [
    "### In the cell below we used the trick with data denoising proposed by [@RADDAR](https://www.kaggle.com/code/raddar/the-data-has-random-uniform-noise-added/notebook) and [Chris](https://www.kaggle.com/competitions/amex-default-prediction/discussion/327651) - upvote their notebook and discussion topic for the great insight 👍"
   ]
  },
  {
   "cell_type": "code",
   "execution_count": 8,
   "id": "5be03b8d",
   "metadata": {
    "execution": {
     "iopub.execute_input": "2022-06-06T15:46:01.462135Z",
     "iopub.status.busy": "2022-06-06T15:46:01.461766Z",
     "iopub.status.idle": "2022-06-06T15:46:06.216022Z",
     "shell.execute_reply": "2022-06-06T15:46:06.214695Z"
    },
    "papermill": {
     "duration": 4.772587,
     "end_time": "2022-06-06T15:46:06.219093",
     "exception": false,
     "start_time": "2022-06-06T15:46:01.446506",
     "status": "completed"
    },
    "tags": []
   },
   "outputs": [],
   "source": [
    "for col in train_data.columns:\n",
    "    if train_data[col].dtype=='float16':\n",
    "        train_data[col] = train_data[col].astype('float32').round(decimals=2).astype('float16')"
   ]
  },
  {
   "cell_type": "markdown",
   "id": "a3ddb080",
   "metadata": {
    "papermill": {
     "duration": 0.013926,
     "end_time": "2022-06-06T15:46:06.251901",
     "exception": false,
     "start_time": "2022-06-06T15:46:06.237975",
     "status": "completed"
    },
    "tags": []
   },
   "source": [
    "### 0.5. OOF and test predictions from XGB kernel\n",
    "\n",
    "#### In cell below we upload predictions for train and test datasets from [XGB Starter kernel](https://www.kaggle.com/code/cdeotte/xgboost-starter-0-793) made by [@Chris](https://www.kaggle.com/cdeotte) - if you still didn't upvote it, that's a great chance 👍:"
   ]
  },
  {
   "cell_type": "code",
   "execution_count": 9,
   "id": "3cc0f1cc",
   "metadata": {
    "execution": {
     "iopub.execute_input": "2022-06-06T15:46:06.286623Z",
     "iopub.status.busy": "2022-06-06T15:46:06.285399Z",
     "iopub.status.idle": "2022-06-06T15:46:09.976297Z",
     "shell.execute_reply": "2022-06-06T15:46:09.974759Z"
    },
    "papermill": {
     "duration": 3.711102,
     "end_time": "2022-06-06T15:46:09.979034",
     "exception": false,
     "start_time": "2022-06-06T15:46:06.267932",
     "status": "completed"
    },
    "tags": []
   },
   "outputs": [],
   "source": [
    "oof_mapper = pd.read_csv('../input/xgboost-starter-0-793/oof_xgb_v1.csv').set_index('customer_ID')\n",
    "test_mapper = pd.read_csv('../input/xgboost-starter-0-793/submission_xgb_v1.csv').set_index('customer_ID')"
   ]
  },
  {
   "cell_type": "code",
   "execution_count": 10,
   "id": "5e776874",
   "metadata": {
    "execution": {
     "iopub.execute_input": "2022-06-06T15:46:10.008377Z",
     "iopub.status.busy": "2022-06-06T15:46:10.007889Z",
     "iopub.status.idle": "2022-06-06T15:46:10.519536Z",
     "shell.execute_reply": "2022-06-06T15:46:10.518847Z"
    },
    "papermill": {
     "duration": 0.528595,
     "end_time": "2022-06-06T15:46:10.521578",
     "exception": false,
     "start_time": "2022-06-06T15:46:09.992983",
     "status": "completed"
    },
    "tags": []
   },
   "outputs": [
    {
     "data": {
      "text/plain": [
       "array([0.00034226, 0.00169908, 0.00090815, ..., 0.00209388, 0.06803552,\n",
       "       0.00157047])"
      ]
     },
     "execution_count": 10,
     "metadata": {},
     "output_type": "execute_result"
    }
   ],
   "source": [
    "chris_xgb_oof = train_data['customer_ID'].map(oof_mapper['oof_pred']).values\n",
    "chris_xgb_oof"
   ]
  },
  {
   "cell_type": "markdown",
   "id": "009dd531",
   "metadata": {
    "papermill": {
     "duration": 0.014048,
     "end_time": "2022-06-06T15:46:10.550597",
     "exception": false,
     "start_time": "2022-06-06T15:46:10.536549",
     "status": "completed"
    },
    "tags": []
   },
   "source": [
    "# 1. Task definition"
   ]
  },
  {
   "cell_type": "markdown",
   "id": "d3ab7868",
   "metadata": {
    "papermill": {
     "duration": 0.014359,
     "end_time": "2022-06-06T15:46:10.579381",
     "exception": false,
     "start_time": "2022-06-06T15:46:10.565022",
     "status": "completed"
    },
    "tags": []
   },
   "source": [
    "### 1.1. Task type\n",
    "\n",
    "On the cell below we create Task object - the class to setup what task LightAutoML model should solve with specific loss and metric if necessary (more info can be found [here](https://lightautoml.readthedocs.io/en/latest/pages/modules/generated/lightautoml.tasks.base.Task.html#lightautoml.tasks.base.Task) in our documentation):"
   ]
  },
  {
   "cell_type": "code",
   "execution_count": 11,
   "id": "4cc30129",
   "metadata": {
    "execution": {
     "iopub.execute_input": "2022-06-06T15:46:10.609991Z",
     "iopub.status.busy": "2022-06-06T15:46:10.609432Z",
     "iopub.status.idle": "2022-06-06T15:46:10.620705Z",
     "shell.execute_reply": "2022-06-06T15:46:10.619589Z"
    },
    "papermill": {
     "duration": 0.029452,
     "end_time": "2022-06-06T15:46:10.623297",
     "exception": false,
     "start_time": "2022-06-06T15:46:10.593845",
     "status": "completed"
    },
    "tags": []
   },
   "outputs": [],
   "source": [
    "# COMPETITION METRIC FROM Konstantin Yakovlev\n",
    "# https://www.kaggle.com/kyakovlev\n",
    "# https://www.kaggle.com/competitions/amex-default-prediction/discussion/327534\n",
    "def amex_metric_mod(y_true, y_pred):\n",
    "\n",
    "    labels     = np.transpose(np.array([y_true, y_pred]))\n",
    "    labels     = labels[labels[:, 1].argsort()[::-1]]\n",
    "    weights    = np.where(labels[:,0]==0, 20, 1)\n",
    "    cut_vals   = labels[np.cumsum(weights) <= int(0.04 * np.sum(weights))]\n",
    "    top_four   = np.sum(cut_vals[:,0]) / np.sum(labels[:,0])\n",
    "\n",
    "    gini = [0,0]\n",
    "    for i in [1,0]:\n",
    "        labels         = np.transpose(np.array([y_true, y_pred]))\n",
    "        labels         = labels[labels[:, i].argsort()[::-1]]\n",
    "        weight         = np.where(labels[:,0]==0, 20, 1)\n",
    "        weight_random  = np.cumsum(weight / np.sum(weight))\n",
    "        total_pos      = np.sum(labels[:, 0] *  weight)\n",
    "        cum_pos_found  = np.cumsum(labels[:, 0] * weight)\n",
    "        lorentz        = cum_pos_found / total_pos\n",
    "        gini[i]        = np.sum((lorentz - weight_random) * weight)\n",
    "\n",
    "    return 0.5 * (gini[1]/gini[0] + top_four)"
   ]
  },
  {
   "cell_type": "code",
   "execution_count": 12,
   "id": "09a183d8",
   "metadata": {
    "execution": {
     "iopub.execute_input": "2022-06-06T15:46:10.653793Z",
     "iopub.status.busy": "2022-06-06T15:46:10.653145Z",
     "iopub.status.idle": "2022-06-06T15:46:10.663294Z",
     "shell.execute_reply": "2022-06-06T15:46:10.662590Z"
    },
    "papermill": {
     "duration": 0.027965,
     "end_time": "2022-06-06T15:46:10.665537",
     "exception": false,
     "start_time": "2022-06-06T15:46:10.637572",
     "status": "completed"
    },
    "tags": []
   },
   "outputs": [],
   "source": [
    "task = Task('binary', )"
   ]
  },
  {
   "cell_type": "markdown",
   "id": "a859cbf9",
   "metadata": {
    "papermill": {
     "duration": 0.013399,
     "end_time": "2022-06-06T15:46:10.692981",
     "exception": false,
     "start_time": "2022-06-06T15:46:10.679582",
     "status": "completed"
    },
    "tags": []
   },
   "source": [
    "### 1.2. Feature roles setup"
   ]
  },
  {
   "cell_type": "markdown",
   "id": "c4897435",
   "metadata": {
    "papermill": {
     "duration": 0.013639,
     "end_time": "2022-06-06T15:46:10.720295",
     "exception": false,
     "start_time": "2022-06-06T15:46:10.706656",
     "status": "completed"
    },
    "tags": []
   },
   "source": [
    "To solve the task, we need to setup columns roles. The **only role you must setup is target role**, everything else (drop, numeric, categorical, group, weights etc.) is up to user - LightAutoML models have automatic columns typization inside:"
   ]
  },
  {
   "cell_type": "code",
   "execution_count": 13,
   "id": "fcb1c7f3",
   "metadata": {
    "execution": {
     "iopub.execute_input": "2022-06-06T15:46:10.749408Z",
     "iopub.status.busy": "2022-06-06T15:46:10.749005Z",
     "iopub.status.idle": "2022-06-06T15:46:10.753755Z",
     "shell.execute_reply": "2022-06-06T15:46:10.752621Z"
    },
    "papermill": {
     "duration": 0.021824,
     "end_time": "2022-06-06T15:46:10.755906",
     "exception": false,
     "start_time": "2022-06-06T15:46:10.734082",
     "status": "completed"
    },
    "tags": []
   },
   "outputs": [],
   "source": [
    "roles = {\n",
    "    'target': TARGET_NAME,\n",
    "    'drop': ['customer_ID']\n",
    "}"
   ]
  },
  {
   "cell_type": "markdown",
   "id": "5ed87e97",
   "metadata": {
    "papermill": {
     "duration": 0.013229,
     "end_time": "2022-06-06T15:46:10.782759",
     "exception": false,
     "start_time": "2022-06-06T15:46:10.769530",
     "status": "completed"
    },
    "tags": []
   },
   "source": [
    "### 1.3. LightAutoML model creation - TabularAutoML preset"
   ]
  },
  {
   "cell_type": "markdown",
   "id": "f3a496ea",
   "metadata": {
    "papermill": {
     "duration": 0.013243,
     "end_time": "2022-06-06T15:46:10.809581",
     "exception": false,
     "start_time": "2022-06-06T15:46:10.796338",
     "status": "completed"
    },
    "tags": []
   },
   "source": [
    "In next the cell we are going to create LightAutoML model with `TabularAutoML` class - preset with default model structure like in the image below:\n",
    "\n",
    "<img src=\"https://github.com/AILab-MLTools/LightAutoML/raw/master/imgs/tutorial_blackbox_pipeline.png\" alt=\"TabularAutoML preset pipeline\" style=\"width:85%;\"/>\n",
    "\n",
    "in just several lines. Let's discuss the params we can setup:\n",
    "- `task` - the type of the ML task (the only **must have** parameter)\n",
    "- `timeout` - time limit in seconds for model to train\n",
    "- `cpu_limit` - vCPU count for model to use\n",
    "- `reader_params` - parameter change for Reader object inside preset, which works on the first step of data preparation: automatic feature typization, preliminary almost-constant features, correct CV setup etc. For example, we setup `n_jobs` threads for typization algo, `cv` folds and `random_state` as inside CV seed.\n",
    "\n",
    "**Important note**: `reader_params` key is one of the YAML config keys, which is used inside `TabularAutoML` preset. [More details](https://github.com/AILab-MLTools/LightAutoML/blob/master/lightautoml/automl/presets/tabular_config.yml) on its structure with explanation comments can be found on the link attached. Each key from this config can be modified with user settings during preset object initialization. To get more info about different parameters setting (for example, ML algos which can be used in `general_params->use_algos`) please take a look at our [article on TowardsDataScience](https://towardsdatascience.com/lightautoml-preset-usage-tutorial-2cce7da6f936).\n",
    "\n",
    "Moreover, to receive the automatic report for our model we can use `ReportDeco` decorator and work with the decorated version in the same way as we do with usual one (more details in [this tutorial](https://github.com/AILab-MLTools/LightAutoML/blob/master/examples/tutorials/Tutorial_1_basics.ipynb))"
   ]
  },
  {
   "cell_type": "code",
   "execution_count": 14,
   "id": "25f22ced",
   "metadata": {
    "execution": {
     "iopub.execute_input": "2022-06-06T15:46:10.839696Z",
     "iopub.status.busy": "2022-06-06T15:46:10.838667Z",
     "iopub.status.idle": "2022-06-06T15:46:10.864423Z",
     "shell.execute_reply": "2022-06-06T15:46:10.863746Z"
    },
    "papermill": {
     "duration": 0.043441,
     "end_time": "2022-06-06T15:46:10.866699",
     "exception": false,
     "start_time": "2022-06-06T15:46:10.823258",
     "status": "completed"
    },
    "tags": []
   },
   "outputs": [],
   "source": [
    "automl = TabularAutoML(\n",
    "    task = task, \n",
    "    timeout = TIMEOUT,\n",
    "    cpu_limit = N_THREADS,\n",
    "    general_params = {'use_algos': [['linear_l2', 'lgb', 'cb']]},\n",
    "    reader_params = {'n_jobs': 1, 'cv': N_FOLDS, 'random_state': RANDOM_STATE},\n",
    "    selection_params = {'mode': 0}\n",
    ")"
   ]
  },
  {
   "cell_type": "markdown",
   "id": "ef7fa501",
   "metadata": {
    "papermill": {
     "duration": 0.01324,
     "end_time": "2022-06-06T15:46:10.893717",
     "exception": false,
     "start_time": "2022-06-06T15:46:10.880477",
     "status": "completed"
    },
    "tags": []
   },
   "source": [
    "# 2. AutoML training"
   ]
  },
  {
   "cell_type": "markdown",
   "id": "61d47a47",
   "metadata": {
    "papermill": {
     "duration": 0.013191,
     "end_time": "2022-06-06T15:46:10.920422",
     "exception": false,
     "start_time": "2022-06-06T15:46:10.907231",
     "status": "completed"
    },
    "tags": []
   },
   "source": [
    "To run autoML training use fit_predict method:\n",
    "- `train_data` - Dataset to train.\n",
    "- `roles` - Roles dict.\n",
    "- `verbose` - Controls the verbosity: the higher, the more messages.\n",
    "        <1  : messages are not displayed;\n",
    "        >=1 : the computation process for layers is displayed;\n",
    "        >=2 : the information about folds processing is also displayed;\n",
    "        >=3 : the hyperparameters optimization process is also displayed;\n",
    "        >=4 : the training process for every algorithm is displayed;\n",
    "\n",
    "Note: out-of-fold prediction is calculated during training and returned from the fit_predict method"
   ]
  },
  {
   "cell_type": "code",
   "execution_count": 15,
   "id": "94785f7a",
   "metadata": {
    "_kg_hide-output": true,
    "execution": {
     "iopub.execute_input": "2022-06-06T15:46:10.949279Z",
     "iopub.status.busy": "2022-06-06T15:46:10.948602Z",
     "iopub.status.idle": "2022-06-06T19:46:28.281149Z",
     "shell.execute_reply": "2022-06-06T19:46:28.279544Z"
    },
    "papermill": {
     "duration": 14417.351668,
     "end_time": "2022-06-06T19:46:28.285594",
     "exception": false,
     "start_time": "2022-06-06T15:46:10.933926",
     "status": "completed"
    },
    "scrolled": true,
    "tags": []
   },
   "outputs": [
    {
     "name": "stdout",
     "output_type": "stream",
     "text": [
      "[15:46:10] Stdout logging level is INFO3.\n",
      "[15:46:10] Task: binary\n",
      "\n",
      "[15:46:10] Start automl preset with listed constraints:\n",
      "[15:46:10] - time: 28800.00 seconds\n",
      "[15:46:10] - CPU: 4 cores\n",
      "[15:46:10] - memory: 16 GB\n",
      "\n",
      "[15:46:10] \u001b[1mTrain data shape: (458913, 920)\u001b[0m\n",
      "\n",
      "[15:51:06] Feats was rejected during automatic roles guess: []\n",
      "[15:51:10] Layer \u001b[1m1\u001b[0m train process start. Time left 28500.57 secs\n",
      "[15:53:32] Start fitting \u001b[1mLvl_0_Pipe_0_Mod_0_LinearL2\u001b[0m ...\n",
      "[15:53:36] ===== Start working with \u001b[1mfold 0\u001b[0m for \u001b[1mLvl_0_Pipe_0_Mod_0_LinearL2\u001b[0m =====\n",
      "[15:54:20] Linear model: C = 1e-05 score = 0.9567053619519813\n",
      "[15:54:40] Linear model: C = 5e-05 score = 0.95886452447954\n",
      "[15:54:55] Linear model: C = 0.0001 score = 0.9593188660352076\n",
      "[15:55:21] Linear model: C = 0.0005 score = 0.9597704921428929\n",
      "[15:55:22] Linear model: C = 0.001 score = 0.9597703913072576\n",
      "[15:56:04] Linear model: C = 0.005 score = 0.9598130283874671\n",
      "[15:56:05] Linear model: C = 0.01 score = 0.9598130283874671\n",
      "[15:56:06] Linear model: C = 0.05 score = 0.9598130283874671\n",
      "[15:56:12] ===== Start working with \u001b[1mfold 1\u001b[0m for \u001b[1mLvl_0_Pipe_0_Mod_0_LinearL2\u001b[0m =====\n",
      "[15:56:54] Linear model: C = 1e-05 score = 0.9554993185731914\n",
      "[15:57:08] Linear model: C = 5e-05 score = 0.9575591276874238\n",
      "[15:57:21] Linear model: C = 0.0001 score = 0.9579915965709602\n",
      "[15:57:40] Linear model: C = 0.0005 score = 0.9581714758998049\n",
      "[15:57:48] Linear model: C = 0.001 score = 0.958173838423064\n",
      "[15:57:50] Linear model: C = 0.005 score = 0.958173838423064\n",
      "[15:57:54] Linear model: C = 0.01 score = 0.958173838423064\n",
      "[15:57:58] ===== Start working with \u001b[1mfold 2\u001b[0m for \u001b[1mLvl_0_Pipe_0_Mod_0_LinearL2\u001b[0m =====\n",
      "[15:58:38] Linear model: C = 1e-05 score = 0.955637556496397\n",
      "[15:58:52] Linear model: C = 5e-05 score = 0.95777269323263\n",
      "[15:59:07] Linear model: C = 0.0001 score = 0.9582299469585629\n",
      "[15:59:29] Linear model: C = 0.0005 score = 0.958726081482634\n",
      "[15:59:30] Linear model: C = 0.001 score = 0.9587258708413222\n",
      "[16:00:09] Linear model: C = 0.005 score = 0.9588822888728119\n",
      "[16:00:10] Linear model: C = 0.01 score = 0.9588822888728119\n",
      "[16:00:10] Linear model: C = 0.05 score = 0.9588822888728119\n",
      "[16:00:15] ===== Start working with \u001b[1mfold 3\u001b[0m for \u001b[1mLvl_0_Pipe_0_Mod_0_LinearL2\u001b[0m =====\n",
      "[16:00:58] Linear model: C = 1e-05 score = 0.9550205430164966\n",
      "[16:01:13] Linear model: C = 5e-05 score = 0.9570956900630785\n",
      "[16:01:27] Linear model: C = 0.0001 score = 0.9575315543522878\n",
      "[16:01:52] Linear model: C = 0.0005 score = 0.9580230986485504\n",
      "[16:02:10] Linear model: C = 0.001 score = 0.95810109365457\n",
      "[16:02:11] Linear model: C = 0.005 score = 0.9581008712500529\n",
      "[16:02:47] Linear model: C = 0.01 score = 0.9580700810614353\n",
      "[16:02:53] ===== Start working with \u001b[1mfold 4\u001b[0m for \u001b[1mLvl_0_Pipe_0_Mod_0_LinearL2\u001b[0m =====\n",
      "[16:03:33] Linear model: C = 1e-05 score = 0.9560541994054337\n",
      "[16:03:46] Linear model: C = 5e-05 score = 0.9582024021599456\n",
      "[16:04:00] Linear model: C = 0.0001 score = 0.9586420244359093\n",
      "[16:04:25] Linear model: C = 0.0005 score = 0.9591156875946047\n",
      "[16:04:47] Linear model: C = 0.001 score = 0.959192684100234\n",
      "[16:05:17] Linear model: C = 0.005 score = 0.9592221686289546\n",
      "[16:05:17] Linear model: C = 0.01 score = 0.9592221686289546\n",
      "[16:05:18] Linear model: C = 0.05 score = 0.9592221686289546\n",
      "[16:05:20] Fitting \u001b[1mLvl_0_Pipe_0_Mod_0_LinearL2\u001b[0m finished. score = \u001b[1m0.9588386658006116\u001b[0m\n",
      "[16:05:20] \u001b[1mLvl_0_Pipe_0_Mod_0_LinearL2\u001b[0m fitting and predicting completed\n",
      "[16:05:20] Time left 27650.43 secs\n",
      "\n",
      "[16:06:48] Start fitting \u001b[1mLvl_0_Pipe_1_Mod_0_LightGBM\u001b[0m ...\n",
      "[16:06:49] ===== Start working with \u001b[1mfold 0\u001b[0m for \u001b[1mLvl_0_Pipe_1_Mod_0_LightGBM\u001b[0m =====\n",
      "[16:07:22] [1]\tvalid's auc: 0.941784\n",
      "[16:07:22] Training until validation scores don't improve for 100 rounds\n",
      "[16:10:32] [100]\tvalid's auc: 0.960329\n",
      "[16:13:45] [200]\tvalid's auc: 0.96176\n",
      "[16:16:58] [300]\tvalid's auc: 0.961949\n",
      "[16:20:03] [400]\tvalid's auc: 0.961978\n",
      "[16:23:17] [500]\tvalid's auc: 0.962014\n",
      "[16:26:24] [600]\tvalid's auc: 0.962097\n",
      "[16:29:35] [700]\tvalid's auc: 0.962135\n",
      "[16:32:50] [800]\tvalid's auc: 0.962206\n",
      "[16:36:14] [900]\tvalid's auc: 0.962228\n",
      "[16:39:33] [1000]\tvalid's auc: 0.962251\n",
      "[16:42:50] [1100]\tvalid's auc: 0.962307\n",
      "[16:46:06] [1200]\tvalid's auc: 0.962325\n",
      "[16:49:18] ===== Start working with \u001b[1mfold 1\u001b[0m for \u001b[1mLvl_0_Pipe_1_Mod_0_LightGBM\u001b[0m =====\n",
      "[16:49:58] [1]\tvalid's auc: 0.941364\n",
      "[16:49:58] Training until validation scores don't improve for 100 rounds\n",
      "[16:53:05] [100]\tvalid's auc: 0.959082\n",
      "[16:56:18] [200]\tvalid's auc: 0.960262\n",
      "[16:59:26] [300]\tvalid's auc: 0.96044\n",
      "[17:02:24] [400]\tvalid's auc: 0.960483\n",
      "[17:05:25] [500]\tvalid's auc: 0.960492\n",
      "[17:08:25] [600]\tvalid's auc: 0.960549\n",
      "[17:11:30] [700]\tvalid's auc: 0.960622\n",
      "[17:14:36] [800]\tvalid's auc: 0.960675\n",
      "[17:17:44] [900]\tvalid's auc: 0.960722\n",
      "[17:20:35] ===== Start working with \u001b[1mfold 2\u001b[0m for \u001b[1mLvl_0_Pipe_1_Mod_0_LightGBM\u001b[0m =====\n",
      "[17:21:14] [1]\tvalid's auc: 0.94193\n",
      "[17:21:14] Training until validation scores don't improve for 100 rounds\n",
      "[17:24:18] [100]\tvalid's auc: 0.959247\n",
      "[17:27:28] [200]\tvalid's auc: 0.960556\n",
      "[17:30:35] [300]\tvalid's auc: 0.960701\n",
      "[17:33:33] [400]\tvalid's auc: 0.960688\n",
      "[17:34:51] ===== Start working with \u001b[1mfold 3\u001b[0m for \u001b[1mLvl_0_Pipe_1_Mod_0_LightGBM\u001b[0m =====\n",
      "[17:35:35] [1]\tvalid's auc: 0.940468\n",
      "[17:35:35] Training until validation scores don't improve for 100 rounds\n",
      "[17:38:43] [100]\tvalid's auc: 0.958523\n",
      "[17:41:54] [200]\tvalid's auc: 0.960061\n",
      "[17:45:00] [300]\tvalid's auc: 0.960336\n",
      "[17:47:56] [400]\tvalid's auc: 0.960397\n",
      "[17:50:26] ===== Start working with \u001b[1mfold 4\u001b[0m for \u001b[1mLvl_0_Pipe_1_Mod_0_LightGBM\u001b[0m =====\n",
      "[17:51:07] [1]\tvalid's auc: 0.94073\n",
      "[17:51:07] Training until validation scores don't improve for 100 rounds\n",
      "[17:54:12] [100]\tvalid's auc: 0.959632\n",
      "[17:57:21] [200]\tvalid's auc: 0.96078\n",
      "[18:00:23] [300]\tvalid's auc: 0.960918\n",
      "[18:02:45] Fitting \u001b[1mLvl_0_Pipe_1_Mod_0_LightGBM\u001b[0m finished. score = \u001b[1m0.960411086973098\u001b[0m\n",
      "[18:02:45] \u001b[1mLvl_0_Pipe_1_Mod_0_LightGBM\u001b[0m fitting and predicting completed\n",
      "[18:02:49] Start fitting \u001b[1mLvl_0_Pipe_1_Mod_1_CatBoost\u001b[0m ...\n",
      "[18:02:52] ===== Start working with \u001b[1mfold 0\u001b[0m for \u001b[1mLvl_0_Pipe_1_Mod_1_CatBoost\u001b[0m =====\n",
      "[18:03:13] 0:\ttest: 0.9275538\tbest: 0.9275538 (0)\ttotal: 626ms\tremaining: 31m 17s\n",
      "[18:03:56] 99:\ttest: 0.9561899\tbest: 0.9561899 (99)\ttotal: 43.4s\tremaining: 20m 57s\n",
      "[18:04:38] 199:\ttest: 0.9583804\tbest: 0.9583804 (199)\ttotal: 1m 25s\tremaining: 19m 51s\n",
      "[18:05:20] 299:\ttest: 0.9595551\tbest: 0.9595551 (299)\ttotal: 2m 7s\tremaining: 19m 8s\n",
      "[18:06:02] 399:\ttest: 0.9602036\tbest: 0.9602036 (399)\ttotal: 2m 49s\tremaining: 18m 20s\n",
      "[18:06:43] 499:\ttest: 0.9606094\tbest: 0.9606094 (499)\ttotal: 3m 30s\tremaining: 17m 31s\n",
      "[18:07:23] 599:\ttest: 0.9608905\tbest: 0.9608905 (599)\ttotal: 4m 10s\tremaining: 16m 40s\n",
      "[18:08:03] 699:\ttest: 0.9611309\tbest: 0.9611309 (699)\ttotal: 4m 50s\tremaining: 15m 53s\n",
      "[18:08:44] 799:\ttest: 0.9613014\tbest: 0.9613028 (798)\ttotal: 5m 30s\tremaining: 15m 9s\n",
      "[18:09:25] 899:\ttest: 0.9614334\tbest: 0.9614350 (898)\ttotal: 6m 11s\tremaining: 14m 26s\n",
      "[18:10:04] 999:\ttest: 0.9615504\tbest: 0.9615504 (999)\ttotal: 6m 50s\tremaining: 13m 40s\n",
      "[18:10:44] 1099:\ttest: 0.9616538\tbest: 0.9616538 (1099)\ttotal: 7m 30s\tremaining: 12m 58s\n",
      "[18:11:24] 1199:\ttest: 0.9617502\tbest: 0.9617503 (1197)\ttotal: 8m 10s\tremaining: 12m 16s\n",
      "[18:12:05] 1299:\ttest: 0.9618205\tbest: 0.9618205 (1299)\ttotal: 8m 51s\tremaining: 11m 34s\n",
      "[18:12:44] 1399:\ttest: 0.9618767\tbest: 0.9618767 (1399)\ttotal: 9m 31s\tremaining: 10m 52s\n",
      "[18:13:24] 1499:\ttest: 0.9618973\tbest: 0.9619007 (1493)\ttotal: 10m 10s\tremaining: 10m 10s\n",
      "[18:14:03] 1599:\ttest: 0.9619420\tbest: 0.9619434 (1598)\ttotal: 10m 49s\tremaining: 9m 28s\n",
      "[18:14:43] 1699:\ttest: 0.9619751\tbest: 0.9619751 (1699)\ttotal: 11m 29s\tremaining: 8m 47s\n",
      "[18:15:24] 1799:\ttest: 0.9620270\tbest: 0.9620270 (1799)\ttotal: 12m 10s\tremaining: 8m 6s\n",
      "[18:16:04] 1899:\ttest: 0.9620640\tbest: 0.9620640 (1899)\ttotal: 12m 50s\tremaining: 7m 26s\n",
      "[18:16:45] 1999:\ttest: 0.9620930\tbest: 0.9620931 (1996)\ttotal: 13m 31s\tremaining: 6m 45s\n",
      "[18:17:26] 2099:\ttest: 0.9621126\tbest: 0.9621136 (2090)\ttotal: 14m 12s\tremaining: 6m 5s\n",
      "[18:18:06] 2199:\ttest: 0.9621407\tbest: 0.9621411 (2197)\ttotal: 14m 52s\tremaining: 5m 24s\n",
      "[18:18:48] 2299:\ttest: 0.9621622\tbest: 0.9621641 (2282)\ttotal: 15m 33s\tremaining: 4m 44s\n",
      "[18:19:27] 2399:\ttest: 0.9621934\tbest: 0.9621948 (2396)\ttotal: 16m 12s\tremaining: 4m 3s\n",
      "[18:20:07] 2499:\ttest: 0.9622041\tbest: 0.9622059 (2443)\ttotal: 16m 52s\tremaining: 3m 22s\n",
      "[18:20:48] 2599:\ttest: 0.9622276\tbest: 0.9622276 (2599)\ttotal: 17m 34s\tremaining: 2m 42s\n",
      "[18:21:29] 2699:\ttest: 0.9622533\tbest: 0.9622533 (2699)\ttotal: 18m 15s\tremaining: 2m 1s\n",
      "[18:22:10] 2799:\ttest: 0.9622674\tbest: 0.9622684 (2796)\ttotal: 18m 56s\tremaining: 1m 21s\n",
      "[18:22:51] 2899:\ttest: 0.9623040\tbest: 0.9623055 (2892)\ttotal: 19m 37s\tremaining: 40.6s\n",
      "[18:23:31] 2999:\ttest: 0.9623286\tbest: 0.9623301 (2995)\ttotal: 20m 17s\tremaining: 0us\n",
      "[18:23:31] bestTest = 0.9623300875\n",
      "[18:23:31] bestIteration = 2995\n",
      "[18:23:31] Shrink model to first 2996 iterations.\n",
      "[18:23:36] ===== Start working with \u001b[1mfold 1\u001b[0m for \u001b[1mLvl_0_Pipe_1_Mod_1_CatBoost\u001b[0m =====\n",
      "[18:24:02] 0:\ttest: 0.9235341\tbest: 0.9235341 (0)\ttotal: 529ms\tremaining: 26m 27s\n",
      "[18:24:44] 99:\ttest: 0.9554353\tbest: 0.9554353 (99)\ttotal: 42.8s\tremaining: 20m 42s\n",
      "[18:25:26] 199:\ttest: 0.9573825\tbest: 0.9573825 (199)\ttotal: 1m 24s\tremaining: 19m 45s\n",
      "[18:26:07] 299:\ttest: 0.9584987\tbest: 0.9584987 (299)\ttotal: 2m 6s\tremaining: 18m 54s\n",
      "[18:26:49] 399:\ttest: 0.9591142\tbest: 0.9591142 (399)\ttotal: 2m 47s\tremaining: 18m 8s\n",
      "[18:27:31] 499:\ttest: 0.9594929\tbest: 0.9594929 (499)\ttotal: 3m 29s\tremaining: 17m 27s\n",
      "[18:28:11] 599:\ttest: 0.9597075\tbest: 0.9597075 (599)\ttotal: 4m 9s\tremaining: 16m 39s\n",
      "[18:28:52] 699:\ttest: 0.9598833\tbest: 0.9598840 (698)\ttotal: 4m 50s\tremaining: 15m 53s\n",
      "[18:29:32] 799:\ttest: 0.9600254\tbest: 0.9600254 (799)\ttotal: 5m 30s\tremaining: 15m 7s\n",
      "[18:30:12] 899:\ttest: 0.9601422\tbest: 0.9601422 (899)\ttotal: 6m 10s\tremaining: 14m 25s\n",
      "[18:30:54] 999:\ttest: 0.9602439\tbest: 0.9602439 (999)\ttotal: 6m 51s\tremaining: 13m 43s\n",
      "[18:31:34] 1099:\ttest: 0.9603170\tbest: 0.9603170 (1099)\ttotal: 7m 32s\tremaining: 13m 1s\n",
      "[18:32:14] 1199:\ttest: 0.9604117\tbest: 0.9604117 (1199)\ttotal: 8m 12s\tremaining: 12m 18s\n",
      "[18:32:55] 1299:\ttest: 0.9604813\tbest: 0.9604822 (1297)\ttotal: 8m 53s\tremaining: 11m 37s\n",
      "[18:33:35] 1399:\ttest: 0.9605462\tbest: 0.9605462 (1399)\ttotal: 9m 33s\tremaining: 10m 55s\n",
      "[18:34:15] 1499:\ttest: 0.9606082\tbest: 0.9606082 (1499)\ttotal: 10m 13s\tremaining: 10m 13s\n",
      "[18:34:54] 1599:\ttest: 0.9606432\tbest: 0.9606472 (1596)\ttotal: 10m 52s\tremaining: 9m 30s\n",
      "[18:35:34] 1699:\ttest: 0.9606811\tbest: 0.9606843 (1697)\ttotal: 11m 32s\tremaining: 8m 49s\n",
      "[18:36:14] 1799:\ttest: 0.9607111\tbest: 0.9607123 (1793)\ttotal: 12m 12s\tremaining: 8m 8s\n",
      "[18:36:55] 1899:\ttest: 0.9607318\tbest: 0.9607326 (1891)\ttotal: 12m 52s\tremaining: 7m 27s\n",
      "[18:37:36] 1999:\ttest: 0.9607633\tbest: 0.9607633 (1999)\ttotal: 13m 33s\tremaining: 6m 46s\n",
      "[18:38:15] 2099:\ttest: 0.9607788\tbest: 0.9607796 (2098)\ttotal: 14m 13s\tremaining: 6m 5s\n",
      "[18:38:56] 2199:\ttest: 0.9608101\tbest: 0.9608105 (2198)\ttotal: 14m 53s\tremaining: 5m 25s\n",
      "[18:39:37] 2299:\ttest: 0.9608142\tbest: 0.9608152 (2295)\ttotal: 15m 35s\tremaining: 4m 44s\n",
      "[18:40:18] 2399:\ttest: 0.9608372\tbest: 0.9608385 (2398)\ttotal: 16m 15s\tremaining: 4m 3s\n",
      "[18:40:58] 2499:\ttest: 0.9608512\tbest: 0.9608512 (2499)\ttotal: 16m 55s\tremaining: 3m 23s\n",
      "[18:41:38] 2599:\ttest: 0.9608617\tbest: 0.9608617 (2599)\ttotal: 17m 35s\tremaining: 2m 42s\n",
      "[18:42:18] 2699:\ttest: 0.9608696\tbest: 0.9608790 (2681)\ttotal: 18m 15s\tremaining: 2m 1s\n",
      "[18:42:58] 2799:\ttest: 0.9609057\tbest: 0.9609079 (2785)\ttotal: 18m 55s\tremaining: 1m 21s\n",
      "[18:43:38] 2899:\ttest: 0.9609060\tbest: 0.9609116 (2815)\ttotal: 19m 35s\tremaining: 40.5s\n",
      "[18:43:44] Stopped by overfitting detector  (100 iterations wait)\n",
      "[18:43:44] bestTest = 0.9609115572\n",
      "[18:43:44] bestIteration = 2815\n",
      "[18:43:44] Shrink model to first 2816 iterations.\n",
      "[18:43:49] ===== Start working with \u001b[1mfold 2\u001b[0m for \u001b[1mLvl_0_Pipe_1_Mod_1_CatBoost\u001b[0m =====\n",
      "[18:44:11] 0:\ttest: 0.9268148\tbest: 0.9268148 (0)\ttotal: 502ms\tremaining: 25m 5s\n",
      "[18:44:57] 99:\ttest: 0.9554673\tbest: 0.9554673 (99)\ttotal: 47.1s\tremaining: 22m 45s\n",
      "[18:45:39] 199:\ttest: 0.9575014\tbest: 0.9575014 (199)\ttotal: 1m 28s\tremaining: 20m 37s\n",
      "[18:46:21] 299:\ttest: 0.9585421\tbest: 0.9585421 (299)\ttotal: 2m 10s\tremaining: 19m 34s\n",
      "[18:47:01] 399:\ttest: 0.9591559\tbest: 0.9591559 (399)\ttotal: 2m 50s\tremaining: 18m 31s\n",
      "[18:47:41] 499:\ttest: 0.9595410\tbest: 0.9595410 (499)\ttotal: 3m 31s\tremaining: 17m 35s\n",
      "[18:48:23] 599:\ttest: 0.9597981\tbest: 0.9597981 (599)\ttotal: 4m 12s\tremaining: 16m 49s\n",
      "[18:49:03] 699:\ttest: 0.9599940\tbest: 0.9599940 (699)\ttotal: 4m 52s\tremaining: 16m\n",
      "[18:49:43] 799:\ttest: 0.9601581\tbest: 0.9601581 (799)\ttotal: 5m 32s\tremaining: 15m 14s\n",
      "[18:50:22] 899:\ttest: 0.9602801\tbest: 0.9602813 (898)\ttotal: 6m 11s\tremaining: 14m 27s\n",
      "[18:51:02] 999:\ttest: 0.9603785\tbest: 0.9603790 (998)\ttotal: 6m 51s\tremaining: 13m 42s\n",
      "[18:51:44] 1099:\ttest: 0.9604728\tbest: 0.9604728 (1099)\ttotal: 7m 33s\tremaining: 13m 2s\n",
      "[18:52:23] 1199:\ttest: 0.9605551\tbest: 0.9605551 (1199)\ttotal: 8m 12s\tremaining: 12m 18s\n",
      "[18:53:03] 1299:\ttest: 0.9606029\tbest: 0.9606048 (1287)\ttotal: 8m 52s\tremaining: 11m 36s\n",
      "[18:53:42] 1399:\ttest: 0.9606525\tbest: 0.9606525 (1399)\ttotal: 9m 31s\tremaining: 10m 53s\n",
      "[18:54:22] 1499:\ttest: 0.9607054\tbest: 0.9607054 (1499)\ttotal: 10m 11s\tremaining: 10m 11s\n",
      "[18:55:02] 1599:\ttest: 0.9607547\tbest: 0.9607549 (1597)\ttotal: 10m 51s\tremaining: 9m 30s\n",
      "[18:55:43] 1699:\ttest: 0.9607760\tbest: 0.9607760 (1699)\ttotal: 11m 31s\tremaining: 8m 49s\n",
      "[18:56:23] 1799:\ttest: 0.9608307\tbest: 0.9608347 (1795)\ttotal: 12m 11s\tremaining: 8m 7s\n",
      "[18:57:03] 1899:\ttest: 0.9608856\tbest: 0.9608856 (1899)\ttotal: 12m 51s\tremaining: 7m 26s\n",
      "[18:57:43] 1999:\ttest: 0.9609162\tbest: 0.9609162 (1999)\ttotal: 13m 32s\tremaining: 6m 46s\n",
      "[18:58:23] 2099:\ttest: 0.9609415\tbest: 0.9609415 (2099)\ttotal: 14m 12s\tremaining: 6m 5s\n",
      "[18:59:05] 2199:\ttest: 0.9609858\tbest: 0.9609868 (2194)\ttotal: 14m 53s\tremaining: 5m 25s\n",
      "[18:59:45] 2299:\ttest: 0.9609951\tbest: 0.9610029 (2266)\ttotal: 15m 34s\tremaining: 4m 44s\n",
      "[19:00:25] 2399:\ttest: 0.9610157\tbest: 0.9610197 (2365)\ttotal: 16m 14s\tremaining: 4m 3s\n",
      "[19:01:06] 2499:\ttest: 0.9610507\tbest: 0.9610558 (2484)\ttotal: 16m 54s\tremaining: 3m 22s\n",
      "[19:01:47] 2599:\ttest: 0.9610942\tbest: 0.9610996 (2580)\ttotal: 17m 35s\tremaining: 2m 42s\n",
      "[19:02:28] 2699:\ttest: 0.9611157\tbest: 0.9611186 (2686)\ttotal: 18m 16s\tremaining: 2m 1s\n",
      "[19:03:08] 2799:\ttest: 0.9611376\tbest: 0.9611397 (2796)\ttotal: 18m 56s\tremaining: 1m 21s\n",
      "[19:03:48] 2899:\ttest: 0.9611558\tbest: 0.9611558 (2899)\ttotal: 19m 37s\tremaining: 40.6s\n",
      "[19:04:29] 2999:\ttest: 0.9611747\tbest: 0.9611747 (2999)\ttotal: 20m 17s\tremaining: 0us\n",
      "[19:04:29] bestTest = 0.9611746701\n",
      "[19:04:29] bestIteration = 2999\n",
      "[19:04:34] ===== Start working with \u001b[1mfold 3\u001b[0m for \u001b[1mLvl_0_Pipe_1_Mod_1_CatBoost\u001b[0m =====\n",
      "[19:04:55] 0:\ttest: 0.9212816\tbest: 0.9212816 (0)\ttotal: 521ms\tremaining: 26m 3s\n",
      "[19:05:38] 99:\ttest: 0.9549072\tbest: 0.9549072 (99)\ttotal: 43.6s\tremaining: 21m 4s\n",
      "[19:06:19] 199:\ttest: 0.9570516\tbest: 0.9570516 (199)\ttotal: 1m 24s\tremaining: 19m 48s\n",
      "[19:07:02] 299:\ttest: 0.9581502\tbest: 0.9581502 (299)\ttotal: 2m 7s\tremaining: 19m 6s\n",
      "[19:07:44] 399:\ttest: 0.9588165\tbest: 0.9588165 (399)\ttotal: 2m 49s\tremaining: 18m 21s\n",
      "[19:08:25] 499:\ttest: 0.9592222\tbest: 0.9592222 (499)\ttotal: 3m 31s\tremaining: 17m 35s\n",
      "[19:09:06] 599:\ttest: 0.9595111\tbest: 0.9595111 (599)\ttotal: 4m 11s\tremaining: 16m 47s\n",
      "[19:09:48] 699:\ttest: 0.9597250\tbest: 0.9597250 (699)\ttotal: 4m 53s\tremaining: 16m 5s\n",
      "[19:10:30] 799:\ttest: 0.9598926\tbest: 0.9598926 (799)\ttotal: 5m 35s\tremaining: 15m 21s\n",
      "[19:11:09] 899:\ttest: 0.9600161\tbest: 0.9600188 (898)\ttotal: 6m 14s\tremaining: 14m 34s\n",
      "[19:11:49] 999:\ttest: 0.9601266\tbest: 0.9601266 (999)\ttotal: 6m 54s\tremaining: 13m 48s\n",
      "[19:12:29] 1099:\ttest: 0.9602130\tbest: 0.9602130 (1099)\ttotal: 7m 34s\tremaining: 13m 4s\n",
      "[19:13:08] 1199:\ttest: 0.9602969\tbest: 0.9602969 (1199)\ttotal: 8m 13s\tremaining: 12m 20s\n",
      "[19:13:49] 1299:\ttest: 0.9603581\tbest: 0.9603596 (1290)\ttotal: 8m 54s\tremaining: 11m 38s\n",
      "[19:14:28] 1399:\ttest: 0.9604373\tbest: 0.9604373 (1399)\ttotal: 9m 33s\tremaining: 10m 55s\n",
      "[19:15:09] 1499:\ttest: 0.9604860\tbest: 0.9604860 (1499)\ttotal: 10m 14s\tremaining: 10m 14s\n",
      "[19:15:48] 1599:\ttest: 0.9605445\tbest: 0.9605469 (1594)\ttotal: 10m 53s\tremaining: 9m 31s\n",
      "[19:16:29] 1699:\ttest: 0.9605853\tbest: 0.9605884 (1689)\ttotal: 11m 33s\tremaining: 8m 50s\n",
      "[19:17:07] 1799:\ttest: 0.9606249\tbest: 0.9606269 (1780)\ttotal: 12m 12s\tremaining: 8m 8s\n",
      "[19:17:48] 1899:\ttest: 0.9606437\tbest: 0.9606448 (1898)\ttotal: 12m 52s\tremaining: 7m 27s\n",
      "[19:18:28] 1999:\ttest: 0.9606824\tbest: 0.9606824 (1999)\ttotal: 13m 32s\tremaining: 6m 46s\n",
      "[19:19:09] 2099:\ttest: 0.9607113\tbest: 0.9607124 (2096)\ttotal: 14m 14s\tremaining: 6m 6s\n",
      "[19:19:49] 2199:\ttest: 0.9607262\tbest: 0.9607271 (2195)\ttotal: 14m 54s\tremaining: 5m 25s\n",
      "[19:20:29] 2299:\ttest: 0.9607501\tbest: 0.9607502 (2298)\ttotal: 15m 34s\tremaining: 4m 44s\n",
      "[19:21:09] 2399:\ttest: 0.9607535\tbest: 0.9607559 (2331)\ttotal: 16m 14s\tremaining: 4m 3s\n",
      "[19:21:50] 2499:\ttest: 0.9607857\tbest: 0.9607863 (2497)\ttotal: 16m 54s\tremaining: 3m 22s\n",
      "[19:22:31] 2599:\ttest: 0.9608053\tbest: 0.9608053 (2599)\ttotal: 17m 35s\tremaining: 2m 42s\n",
      "[19:23:11] 2699:\ttest: 0.9608348\tbest: 0.9608373 (2690)\ttotal: 18m 16s\tremaining: 2m 1s\n",
      "[19:23:53] 2799:\ttest: 0.9608394\tbest: 0.9608439 (2778)\ttotal: 18m 58s\tremaining: 1m 21s\n",
      "[19:24:33] 2899:\ttest: 0.9608461\tbest: 0.9608475 (2881)\ttotal: 19m 37s\tremaining: 40.6s\n",
      "[19:25:14] 2999:\ttest: 0.9608721\tbest: 0.9608730 (2997)\ttotal: 20m 18s\tremaining: 0us\n",
      "[19:25:14] bestTest = 0.9608730124\n",
      "[19:25:14] bestIteration = 2997\n",
      "[19:25:14] Shrink model to first 2998 iterations.\n",
      "[19:25:20] ===== Start working with \u001b[1mfold 4\u001b[0m for \u001b[1mLvl_0_Pipe_1_Mod_1_CatBoost\u001b[0m =====\n",
      "[19:25:41] 0:\ttest: 0.9236080\tbest: 0.9236080 (0)\ttotal: 1.92s\tremaining: 1h 35m 56s\n",
      "[19:26:26] 99:\ttest: 0.9562637\tbest: 0.9562637 (99)\ttotal: 46.9s\tremaining: 22m 41s\n",
      "[19:27:06] 199:\ttest: 0.9582515\tbest: 0.9582515 (199)\ttotal: 1m 27s\tremaining: 20m 20s\n",
      "[19:27:49] 299:\ttest: 0.9592427\tbest: 0.9592427 (299)\ttotal: 2m 9s\tremaining: 19m 26s\n",
      "[19:28:30] 399:\ttest: 0.9598176\tbest: 0.9598176 (399)\ttotal: 2m 51s\tremaining: 18m 32s\n",
      "[19:29:11] 499:\ttest: 0.9601778\tbest: 0.9601778 (499)\ttotal: 3m 31s\tremaining: 17m 39s\n",
      "[19:29:53] 599:\ttest: 0.9604440\tbest: 0.9604440 (599)\ttotal: 4m 13s\tremaining: 16m 53s\n",
      "[19:30:32] 699:\ttest: 0.9606762\tbest: 0.9606762 (699)\ttotal: 4m 52s\tremaining: 16m 2s\n",
      "[19:31:13] 799:\ttest: 0.9608466\tbest: 0.9608466 (799)\ttotal: 5m 33s\tremaining: 15m 16s\n",
      "[19:31:53] 899:\ttest: 0.9609833\tbest: 0.9609838 (898)\ttotal: 6m 13s\tremaining: 14m 32s\n",
      "[19:32:33] 999:\ttest: 0.9611068\tbest: 0.9611068 (999)\ttotal: 6m 53s\tremaining: 13m 47s\n",
      "[19:33:12] 1099:\ttest: 0.9611795\tbest: 0.9611795 (1099)\ttotal: 7m 32s\tremaining: 13m 1s\n",
      "[19:33:52] 1199:\ttest: 0.9612654\tbest: 0.9612690 (1184)\ttotal: 8m 12s\tremaining: 12m 18s\n",
      "[19:34:33] 1299:\ttest: 0.9613521\tbest: 0.9613521 (1299)\ttotal: 8m 53s\tremaining: 11m 37s\n",
      "[19:35:14] 1399:\ttest: 0.9614156\tbest: 0.9614156 (1399)\ttotal: 9m 34s\tremaining: 10m 56s\n",
      "[19:35:56] 1499:\ttest: 0.9614830\tbest: 0.9614830 (1499)\ttotal: 10m 16s\tremaining: 10m 16s\n",
      "[19:36:39] 1599:\ttest: 0.9615294\tbest: 0.9615344 (1589)\ttotal: 10m 59s\tremaining: 9m 36s\n",
      "[19:37:21] 1699:\ttest: 0.9615770\tbest: 0.9615772 (1698)\ttotal: 11m 41s\tremaining: 8m 56s\n",
      "[19:38:04] 1799:\ttest: 0.9616211\tbest: 0.9616222 (1794)\ttotal: 12m 24s\tremaining: 8m 16s\n",
      "[19:38:45] 1899:\ttest: 0.9616666\tbest: 0.9616667 (1898)\ttotal: 13m 5s\tremaining: 7m 34s\n",
      "[19:39:27] 1999:\ttest: 0.9617010\tbest: 0.9617022 (1997)\ttotal: 13m 46s\tremaining: 6m 53s\n",
      "[19:40:07] 2099:\ttest: 0.9617303\tbest: 0.9617308 (2098)\ttotal: 14m 26s\tremaining: 6m 11s\n",
      "[19:40:47] 2199:\ttest: 0.9617655\tbest: 0.9617670 (2186)\ttotal: 15m 7s\tremaining: 5m 29s\n",
      "[19:41:28] 2299:\ttest: 0.9617909\tbest: 0.9617939 (2277)\ttotal: 15m 48s\tremaining: 4m 48s\n",
      "[19:42:08] 2399:\ttest: 0.9618126\tbest: 0.9618126 (2399)\ttotal: 16m 28s\tremaining: 4m 7s\n",
      "[19:42:48] 2499:\ttest: 0.9618352\tbest: 0.9618392 (2483)\ttotal: 17m 7s\tremaining: 3m 25s\n",
      "[19:43:28] 2599:\ttest: 0.9618642\tbest: 0.9618655 (2570)\ttotal: 17m 47s\tremaining: 2m 44s\n",
      "[19:44:08] 2699:\ttest: 0.9618721\tbest: 0.9618745 (2695)\ttotal: 18m 27s\tremaining: 2m 3s\n",
      "[19:44:47] 2799:\ttest: 0.9619124\tbest: 0.9619124 (2799)\ttotal: 19m 7s\tremaining: 1m 21s\n",
      "[19:45:27] 2899:\ttest: 0.9619232\tbest: 0.9619242 (2898)\ttotal: 19m 47s\tremaining: 40.9s\n",
      "[19:46:09] 2999:\ttest: 0.9619580\tbest: 0.9619580 (2999)\ttotal: 20m 28s\tremaining: 0us\n",
      "[19:46:09] bestTest = 0.9619579623\n",
      "[19:46:09] bestIteration = 2999\n",
      "[19:46:10] Fitting \u001b[1mLvl_0_Pipe_1_Mod_1_CatBoost\u001b[0m finished. score = \u001b[1m0.9614451321959092\u001b[0m\n",
      "[19:46:10] \u001b[1mLvl_0_Pipe_1_Mod_1_CatBoost\u001b[0m fitting and predicting completed\n",
      "[19:46:10] Time left 14400.23 secs\n",
      "\n",
      "[19:46:10] \u001b[1mLayer 1 training completed.\u001b[0m\n",
      "\n",
      "[19:46:10] Blending: optimization starts with equal weights and score \u001b[1m0.961711205602491\u001b[0m\n",
      "[19:46:15] Blending: iteration \u001b[1m0\u001b[0m: score = \u001b[1m0.961889066015719\u001b[0m, weights = \u001b[1m[0.14530924 0.3129784  0.5417124 ]\u001b[0m\n",
      "[19:46:19] Blending: iteration \u001b[1m1\u001b[0m: score = \u001b[1m0.9618930933350514\u001b[0m, weights = \u001b[1m[0.11034156 0.3377557  0.5519028 ]\u001b[0m\n",
      "[19:46:23] Blending: iteration \u001b[1m2\u001b[0m: score = \u001b[1m0.9618931568935024\u001b[0m, weights = \u001b[1m[0.11305162 0.33709875 0.5498496 ]\u001b[0m\n",
      "[19:46:28] Blending: iteration \u001b[1m3\u001b[0m: score = \u001b[1m0.9618931568935024\u001b[0m, weights = \u001b[1m[0.11305162 0.33709875 0.5498496 ]\u001b[0m\n",
      "[19:46:28] Blending: no score update. Terminated\n",
      "\n",
      "[19:46:28] \u001b[1mAutoml preset training completed in 14417.31 seconds\u001b[0m\n",
      "\n",
      "[19:46:28] Model description:\n",
      "Final prediction for new objects (level 0) = \n",
      "\t 0.11305 * (5 averaged models Lvl_0_Pipe_0_Mod_0_LinearL2) +\n",
      "\t 0.33710 * (5 averaged models Lvl_0_Pipe_1_Mod_0_LightGBM) +\n",
      "\t 0.54985 * (5 averaged models Lvl_0_Pipe_1_Mod_1_CatBoost) \n",
      "\n",
      "CPU times: user 14h 50min 38s, sys: 4min 55s, total: 14h 55min 33s\n",
      "Wall time: 4h 17s\n"
     ]
    }
   ],
   "source": [
    "%%time \n",
    "oof_pred = automl.fit_predict(train_data, roles = roles, verbose = 3)"
   ]
  },
  {
   "cell_type": "code",
   "execution_count": 16,
   "id": "b04e3a78",
   "metadata": {
    "execution": {
     "iopub.execute_input": "2022-06-06T19:46:28.360467Z",
     "iopub.status.busy": "2022-06-06T19:46:28.359418Z",
     "iopub.status.idle": "2022-06-06T19:46:28.367744Z",
     "shell.execute_reply": "2022-06-06T19:46:28.366646Z"
    },
    "papermill": {
     "duration": 0.049056,
     "end_time": "2022-06-06T19:46:28.370245",
     "exception": false,
     "start_time": "2022-06-06T19:46:28.321189",
     "status": "completed"
    },
    "tags": []
   },
   "outputs": [
    {
     "name": "stdout",
     "output_type": "stream",
     "text": [
      "Final prediction for new objects (level 0) = \n",
      "\t 0.11305 * (5 averaged models Lvl_0_Pipe_0_Mod_0_LinearL2) +\n",
      "\t 0.33710 * (5 averaged models Lvl_0_Pipe_1_Mod_0_LightGBM) +\n",
      "\t 0.54985 * (5 averaged models Lvl_0_Pipe_1_Mod_1_CatBoost) \n"
     ]
    }
   ],
   "source": [
    "print(automl.create_model_str_desc())"
   ]
  },
  {
   "cell_type": "code",
   "execution_count": 17,
   "id": "02e3c8c6",
   "metadata": {
    "execution": {
     "iopub.execute_input": "2022-06-06T19:46:28.443748Z",
     "iopub.status.busy": "2022-06-06T19:46:28.443218Z",
     "iopub.status.idle": "2022-06-06T19:46:28.681499Z",
     "shell.execute_reply": "2022-06-06T19:46:28.680151Z"
    },
    "papermill": {
     "duration": 0.277941,
     "end_time": "2022-06-06T19:46:28.683823",
     "exception": false,
     "start_time": "2022-06-06T19:46:28.405882",
     "status": "completed"
    },
    "tags": []
   },
   "outputs": [
    {
     "name": "stdout",
     "output_type": "stream",
     "text": [
      "OOF score: 0.7936372465137568\n"
     ]
    }
   ],
   "source": [
    "print(f'OOF score: {amex_metric_mod(train_data[TARGET_NAME].values, oof_pred.data[:, 0])}')"
   ]
  },
  {
   "cell_type": "code",
   "execution_count": 18,
   "id": "a38f7a60",
   "metadata": {
    "execution": {
     "iopub.execute_input": "2022-06-06T19:46:28.755299Z",
     "iopub.status.busy": "2022-06-06T19:46:28.754788Z",
     "iopub.status.idle": "2022-06-06T19:46:54.022977Z",
     "shell.execute_reply": "2022-06-06T19:46:54.021509Z"
    },
    "papermill": {
     "duration": 25.307886,
     "end_time": "2022-06-06T19:46:54.026091",
     "exception": false,
     "start_time": "2022-06-06T19:46:28.718205",
     "status": "completed"
    },
    "tags": []
   },
   "outputs": [
    {
     "name": "stdout",
     "output_type": "stream",
     "text": [
      "0.7913583 0.00\n",
      "0.7913968 0.01\n",
      "0.7915190 0.02\n",
      "0.7916325 0.03\n",
      "0.7916615 0.04\n",
      "0.7917448 0.05\n",
      "0.7919792 0.06\n",
      "0.7920069 0.07\n",
      "0.7921058 0.08\n",
      "0.7922970 0.09\n",
      "0.7924077 0.10\n",
      "0.7925560 0.11\n",
      "0.7926282 0.12\n",
      "0.7926621 0.13\n",
      "0.7928555 0.14\n",
      "0.7928591 0.15\n",
      "0.7928905 0.17\n",
      "0.7929501 0.19\n",
      "0.7930150 0.20\n",
      "0.7930848 0.22\n",
      "0.7931824 0.23\n",
      "0.7932627 0.24\n",
      "0.7932963 0.25\n",
      "0.7933127 0.26\n",
      "0.7933245 0.27\n",
      "0.7935295 0.28\n",
      "0.7936248 0.29\n",
      "0.7936313 0.30\n",
      "0.7937260 0.31\n",
      "0.7937878 0.33\n",
      "0.7938392 0.34\n",
      "0.7938903 0.35\n",
      "0.7939283 0.36\n",
      "0.7939660 0.37\n",
      "0.7940580 0.38\n",
      "0.7940949 0.39\n",
      "0.7942030 0.40\n",
      "0.7942854 0.41\n",
      "0.7943002 0.42\n",
      "0.7943458 0.44\n",
      "0.7943855 0.46\n",
      "0.7944113 0.47\n",
      "0.7945545 0.48\n",
      "0.7945832 0.60\n",
      "0.7945956 0.61\n",
      "0.7946099 0.66\n",
      "0.7946663 0.67\n",
      "0.7946762 0.68\n",
      "0.7946898 0.69\n",
      "Finally selected: Score = 0.7946898, Best_w = 0.69\n"
     ]
    }
   ],
   "source": [
    "best_w = None\n",
    "best_sc = -1\n",
    "for w in np.arange(0, 1.01, 0.01):\n",
    "    sc = amex_metric_mod(train_data[TARGET_NAME].values, w * oof_pred.data[:, 0] + (1-w)*chris_xgb_oof)\n",
    "    if sc > best_sc:\n",
    "        best_sc = sc\n",
    "        best_w = w\n",
    "        print('{:.7f} {:.2f}'.format(best_sc, best_w))\n",
    "        \n",
    "print('Finally selected: Score = {:.7f}, Best_w = {:.2f}'.format(best_sc, best_w))"
   ]
  },
  {
   "cell_type": "code",
   "execution_count": 19,
   "id": "e7121031",
   "metadata": {
    "execution": {
     "iopub.execute_input": "2022-06-06T19:46:54.105681Z",
     "iopub.status.busy": "2022-06-06T19:46:54.105148Z",
     "iopub.status.idle": "2022-06-06T19:46:54.389729Z",
     "shell.execute_reply": "2022-06-06T19:46:54.388622Z"
    },
    "papermill": {
     "duration": 0.326777,
     "end_time": "2022-06-06T19:46:54.392009",
     "exception": false,
     "start_time": "2022-06-06T19:46:54.065232",
     "status": "completed"
    },
    "tags": []
   },
   "outputs": [
    {
     "name": "stdout",
     "output_type": "stream",
     "text": [
      "Final OOF score: 0.7946898359301046\n"
     ]
    }
   ],
   "source": [
    "print(f'Final OOF score: {amex_metric_mod(train_data[TARGET_NAME].values, best_w * oof_pred.data[:, 0] + (1-best_w)*chris_xgb_oof)}')"
   ]
  },
  {
   "cell_type": "markdown",
   "id": "6aec0091",
   "metadata": {
    "papermill": {
     "duration": 0.039911,
     "end_time": "2022-06-06T19:46:54.472314",
     "exception": false,
     "start_time": "2022-06-06T19:46:54.432403",
     "status": "completed"
    },
    "tags": []
   },
   "source": [
    "# 3. Feature importances calculation \n",
    "\n",
    "For feature importances calculation we have 2 different methods in LightAutoML:\n",
    "- Fast (`fast`) - this method uses feature importances from feature selector LGBM model inside LightAutoML. It works extremely fast and almost always (almost because of situations, when feature selection is turned off or selector was removed from the final models with all GBM models). no need to use new labelled data.\n",
    "- Accurate (`accurate`) - this method calculate *features permutation importances* for the whole LightAutoML model based on the **new labelled data**. It always works but can take a lot of time to finish (depending on the model structure, new labelled dataset size etc.)."
   ]
  },
  {
   "cell_type": "code",
   "execution_count": 20,
   "id": "768d7e88",
   "metadata": {
    "execution": {
     "iopub.execute_input": "2022-06-06T19:46:54.553657Z",
     "iopub.status.busy": "2022-06-06T19:46:54.553167Z",
     "iopub.status.idle": "2022-06-06T19:46:54.557200Z",
     "shell.execute_reply": "2022-06-06T19:46:54.556240Z"
    },
    "papermill": {
     "duration": 0.047319,
     "end_time": "2022-06-06T19:46:54.559170",
     "exception": false,
     "start_time": "2022-06-06T19:46:54.511851",
     "status": "completed"
    },
    "tags": []
   },
   "outputs": [],
   "source": [
    "# %%time\n",
    "\n",
    "# # Fast feature importances calculation\n",
    "# fast_fi = automl.get_feature_scores('fast').head(75)\n",
    "# top_3_features = fast_fi['Feature'].values[:3]\n",
    "# fast_fi.set_index('Feature')['Importance'].plot.bar(figsize = (30, 10), grid = True)"
   ]
  },
  {
   "cell_type": "code",
   "execution_count": 21,
   "id": "c4639b11",
   "metadata": {
    "execution": {
     "iopub.execute_input": "2022-06-06T19:46:54.640708Z",
     "iopub.status.busy": "2022-06-06T19:46:54.640146Z",
     "iopub.status.idle": "2022-06-06T19:46:54.645446Z",
     "shell.execute_reply": "2022-06-06T19:46:54.644143Z"
    },
    "papermill": {
     "duration": 0.049556,
     "end_time": "2022-06-06T19:46:54.647785",
     "exception": false,
     "start_time": "2022-06-06T19:46:54.598229",
     "status": "completed"
    },
    "tags": []
   },
   "outputs": [],
   "source": [
    "# fast_fi.head()"
   ]
  },
  {
   "cell_type": "markdown",
   "id": "105cb80b",
   "metadata": {
    "papermill": {
     "duration": 0.038892,
     "end_time": "2022-06-06T19:46:54.726114",
     "exception": false,
     "start_time": "2022-06-06T19:46:54.687222",
     "status": "completed"
    },
    "tags": []
   },
   "source": [
    "### Plot PDP graphs for LightAutoML model"
   ]
  },
  {
   "cell_type": "code",
   "execution_count": 22,
   "id": "439f868e",
   "metadata": {
    "execution": {
     "iopub.execute_input": "2022-06-06T19:46:54.806562Z",
     "iopub.status.busy": "2022-06-06T19:46:54.805979Z",
     "iopub.status.idle": "2022-06-06T19:47:02.195749Z",
     "shell.execute_reply": "2022-06-06T19:47:02.194646Z"
    },
    "papermill": {
     "duration": 7.433603,
     "end_time": "2022-06-06T19:47:02.198666",
     "exception": false,
     "start_time": "2022-06-06T19:46:54.765063",
     "status": "completed"
    },
    "tags": []
   },
   "outputs": [],
   "source": [
    "data = pd.read_pickle('../input/amexaggdatapicklef32/test_agg_f32_part_0.pkl', compression=\"gzip\")\n",
    "for col in data.columns:\n",
    "    if data[col].dtype=='float16':\n",
    "        data[col] = data[col].astype('float32').round(decimals=2).astype('float16')"
   ]
  },
  {
   "cell_type": "code",
   "execution_count": 23,
   "id": "3d452bb9",
   "metadata": {
    "execution": {
     "iopub.execute_input": "2022-06-06T19:47:02.279549Z",
     "iopub.status.busy": "2022-06-06T19:47:02.278420Z",
     "iopub.status.idle": "2022-06-06T19:54:43.457290Z",
     "shell.execute_reply": "2022-06-06T19:54:43.456337Z"
    },
    "papermill": {
     "duration": 461.222152,
     "end_time": "2022-06-06T19:54:43.460024",
     "exception": false,
     "start_time": "2022-06-06T19:47:02.237872",
     "status": "completed"
    },
    "tags": []
   },
   "outputs": [
    {
     "name": "stderr",
     "output_type": "stream",
     "text": [
      "100%|██████████| 30/30 [07:32<00:00, 15.08s/it]\n"
     ]
    },
    {
     "data": {
      "image/png": "[encoded data removed]",
      "text/plain": [
       "<Figure size 1152x864 with 2 Axes>"
      ]
     },
     "metadata": {},
     "output_type": "display_data"
    }
   ],
   "source": [
    "automl.plot_pdp(data.sample(20000), feature_name='P_2_last')"
   ]
  },
  {
   "cell_type": "code",
   "execution_count": 24,
   "id": "9de04ad1",
   "metadata": {
    "execution": {
     "iopub.execute_input": "2022-06-06T19:54:43.550750Z",
     "iopub.status.busy": "2022-06-06T19:54:43.550000Z",
     "iopub.status.idle": "2022-06-06T19:57:43.675404Z",
     "shell.execute_reply": "2022-06-06T19:57:43.674164Z"
    },
    "papermill": {
     "duration": 180.174068,
     "end_time": "2022-06-06T19:57:43.678789",
     "exception": false,
     "start_time": "2022-06-06T19:54:43.504721",
     "status": "completed"
    },
    "tags": []
   },
   "outputs": [
    {
     "name": "stderr",
     "output_type": "stream",
     "text": [
      "100%|██████████| 10/10 [02:43<00:00, 16.35s/it]\n"
     ]
    },
    {
     "data": {
      "image/png": "[encoded data removed]",
      "text/plain": [
       "<Figure size 1152x864 with 2 Axes>"
      ]
     },
     "metadata": {},
     "output_type": "display_data"
    }
   ],
   "source": [
    "automl.plot_pdp(data.sample(20000), feature_name='D_39_last')"
   ]
  },
  {
   "cell_type": "markdown",
   "id": "90400815",
   "metadata": {
    "papermill": {
     "duration": 0.045991,
     "end_time": "2022-06-06T19:57:43.772157",
     "exception": false,
     "start_time": "2022-06-06T19:57:43.726166",
     "status": "completed"
    },
    "tags": []
   },
   "source": [
    "# 4. Predict for test dataset\n",
    "\n",
    "We are also ready to predict for our test competition dataset and submission file creation:"
   ]
  },
  {
   "cell_type": "code",
   "execution_count": 25,
   "id": "0414f7ea",
   "metadata": {
    "execution": {
     "iopub.execute_input": "2022-06-06T19:57:43.867130Z",
     "iopub.status.busy": "2022-06-06T19:57:43.865687Z",
     "iopub.status.idle": "2022-06-06T19:57:44.117409Z",
     "shell.execute_reply": "2022-06-06T19:57:44.116506Z"
    },
    "papermill": {
     "duration": 0.301126,
     "end_time": "2022-06-06T19:57:44.119438",
     "exception": false,
     "start_time": "2022-06-06T19:57:43.818312",
     "status": "completed"
    },
    "tags": []
   },
   "outputs": [
    {
     "data": {
      "text/plain": [
       "11675"
      ]
     },
     "execution_count": 25,
     "metadata": {},
     "output_type": "execute_result"
    }
   ],
   "source": [
    "import gc\n",
    "del train_data\n",
    "gc.collect()"
   ]
  },
  {
   "cell_type": "code",
   "execution_count": 26,
   "id": "99262301",
   "metadata": {
    "execution": {
     "iopub.execute_input": "2022-06-06T19:57:44.216258Z",
     "iopub.status.busy": "2022-06-06T19:57:44.214843Z",
     "iopub.status.idle": "2022-06-06T20:08:27.619038Z",
     "shell.execute_reply": "2022-06-06T20:08:27.617857Z"
    },
    "papermill": {
     "duration": 643.457647,
     "end_time": "2022-06-06T20:08:27.622442",
     "exception": false,
     "start_time": "2022-06-06T19:57:44.164795",
     "status": "completed"
    },
    "tags": []
   },
   "outputs": [
    {
     "name": "stdout",
     "output_type": "stream",
     "text": [
      "0 (100000, 919)\n",
      "1 (100000, 919)\n",
      "2 (100000, 919)\n",
      "3 (100000, 919)\n",
      "4 (100000, 919)\n",
      "5 (100000, 919)\n",
      "6 (100000, 919)\n",
      "7 (100000, 919)\n",
      "8 (100000, 919)\n",
      "9 (24621, 919)\n"
     ]
    }
   ],
   "source": [
    "test_predictions = []\n",
    "for i in range(10):\n",
    "    data = pd.read_pickle('../input/amexaggdatapicklef32/test_agg_f32_part_{}.pkl'.format(i), compression=\"gzip\")\n",
    "    chris_xgb_test = data['customer_ID'].map(test_mapper['prediction']).values\n",
    "    for col in data.columns:\n",
    "        if data[col].dtype=='float16':\n",
    "            data[col] = data[col].astype('float32').round(decimals=2).astype('float16')\n",
    "    print(i, data.shape)\n",
    "    test_pred = automl.predict(data)\n",
    "    test_predictions += list(best_w * test_pred.data[:, 0] + (1-best_w)*chris_xgb_test)"
   ]
  },
  {
   "cell_type": "code",
   "execution_count": 27,
   "id": "4b86fc68",
   "metadata": {
    "execution": {
     "iopub.execute_input": "2022-06-06T20:08:27.720854Z",
     "iopub.status.busy": "2022-06-06T20:08:27.720032Z",
     "iopub.status.idle": "2022-06-06T20:08:29.931101Z",
     "shell.execute_reply": "2022-06-06T20:08:29.930081Z"
    },
    "papermill": {
     "duration": 2.263516,
     "end_time": "2022-06-06T20:08:29.933420",
     "exception": false,
     "start_time": "2022-06-06T20:08:27.669904",
     "status": "completed"
    },
    "tags": []
   },
   "outputs": [
    {
     "name": "stdout",
     "output_type": "stream",
     "text": [
      "(924621, 2)\n"
     ]
    },
    {
     "data": {
      "text/html": [
       "<div>\n",
       "<style scoped>\n",
       "    .dataframe tbody tr th:only-of-type {\n",
       "        vertical-align: middle;\n",
       "    }\n",
       "\n",
       "    .dataframe tbody tr th {\n",
       "        vertical-align: top;\n",
       "    }\n",
       "\n",
       "    .dataframe thead th {\n",
       "        text-align: right;\n",
       "    }\n",
       "</style>\n",
       "<table border=\"1\" class=\"dataframe\">\n",
       "  <thead>\n",
       "    <tr style=\"text-align: right;\">\n",
       "      <th></th>\n",
       "      <th>customer_ID</th>\n",
       "      <th>prediction</th>\n",
       "    </tr>\n",
       "  </thead>\n",
       "  <tbody>\n",
       "    <tr>\n",
       "      <th>0</th>\n",
       "      <td>00000469ba478561f23a92a868bd366de6f6527a684c9a...</td>\n",
       "      <td>0</td>\n",
       "    </tr>\n",
       "    <tr>\n",
       "      <th>1</th>\n",
       "      <td>00001bf2e77ff879fab36aa4fac689b9ba411dae63ae39...</td>\n",
       "      <td>0</td>\n",
       "    </tr>\n",
       "    <tr>\n",
       "      <th>2</th>\n",
       "      <td>0000210045da4f81e5f122c6bde5c2a617d03eef67f82c...</td>\n",
       "      <td>0</td>\n",
       "    </tr>\n",
       "    <tr>\n",
       "      <th>3</th>\n",
       "      <td>00003b41e58ede33b8daf61ab56d9952f17c9ad1c3976c...</td>\n",
       "      <td>0</td>\n",
       "    </tr>\n",
       "    <tr>\n",
       "      <th>4</th>\n",
       "      <td>00004b22eaeeeb0ec976890c1d9bfc14fd9427e98c4ee9...</td>\n",
       "      <td>0</td>\n",
       "    </tr>\n",
       "  </tbody>\n",
       "</table>\n",
       "</div>"
      ],
      "text/plain": [
       "                                         customer_ID  prediction\n",
       "0  00000469ba478561f23a92a868bd366de6f6527a684c9a...           0\n",
       "1  00001bf2e77ff879fab36aa4fac689b9ba411dae63ae39...           0\n",
       "2  0000210045da4f81e5f122c6bde5c2a617d03eef67f82c...           0\n",
       "3  00003b41e58ede33b8daf61ab56d9952f17c9ad1c3976c...           0\n",
       "4  00004b22eaeeeb0ec976890c1d9bfc14fd9427e98c4ee9...           0"
      ]
     },
     "execution_count": 27,
     "metadata": {},
     "output_type": "execute_result"
    }
   ],
   "source": [
    "submission = pd.read_csv('../input/amex-default-prediction/sample_submission.csv')\n",
    "print(submission.shape)\n",
    "submission.head()"
   ]
  },
  {
   "cell_type": "code",
   "execution_count": 28,
   "id": "ce9ea1b3",
   "metadata": {
    "execution": {
     "iopub.execute_input": "2022-06-06T20:08:30.029258Z",
     "iopub.status.busy": "2022-06-06T20:08:30.028680Z",
     "iopub.status.idle": "2022-06-06T20:08:35.876810Z",
     "shell.execute_reply": "2022-06-06T20:08:35.875785Z"
    },
    "papermill": {
     "duration": 5.899043,
     "end_time": "2022-06-06T20:08:35.879083",
     "exception": false,
     "start_time": "2022-06-06T20:08:29.980040",
     "status": "completed"
    },
    "tags": []
   },
   "outputs": [
    {
     "data": {
      "text/html": [
       "<div>\n",
       "<style scoped>\n",
       "    .dataframe tbody tr th:only-of-type {\n",
       "        vertical-align: middle;\n",
       "    }\n",
       "\n",
       "    .dataframe tbody tr th {\n",
       "        vertical-align: top;\n",
       "    }\n",
       "\n",
       "    .dataframe thead th {\n",
       "        text-align: right;\n",
       "    }\n",
       "</style>\n",
       "<table border=\"1\" class=\"dataframe\">\n",
       "  <thead>\n",
       "    <tr style=\"text-align: right;\">\n",
       "      <th></th>\n",
       "      <th>customer_ID</th>\n",
       "      <th>prediction</th>\n",
       "    </tr>\n",
       "  </thead>\n",
       "  <tbody>\n",
       "    <tr>\n",
       "      <th>0</th>\n",
       "      <td>00000469ba478561f23a92a868bd366de6f6527a684c9a...</td>\n",
       "      <td>0.029944</td>\n",
       "    </tr>\n",
       "    <tr>\n",
       "      <th>1</th>\n",
       "      <td>00001bf2e77ff879fab36aa4fac689b9ba411dae63ae39...</td>\n",
       "      <td>0.001422</td>\n",
       "    </tr>\n",
       "    <tr>\n",
       "      <th>2</th>\n",
       "      <td>0000210045da4f81e5f122c6bde5c2a617d03eef67f82c...</td>\n",
       "      <td>0.049782</td>\n",
       "    </tr>\n",
       "    <tr>\n",
       "      <th>3</th>\n",
       "      <td>00003b41e58ede33b8daf61ab56d9952f17c9ad1c3976c...</td>\n",
       "      <td>0.245786</td>\n",
       "    </tr>\n",
       "    <tr>\n",
       "      <th>4</th>\n",
       "      <td>00004b22eaeeeb0ec976890c1d9bfc14fd9427e98c4ee9...</td>\n",
       "      <td>0.865604</td>\n",
       "    </tr>\n",
       "    <tr>\n",
       "      <th>...</th>\n",
       "      <td>...</td>\n",
       "      <td>...</td>\n",
       "    </tr>\n",
       "    <tr>\n",
       "      <th>924616</th>\n",
       "      <td>ffff952c631f2c911b8a2a8ca56ea6e656309a83d2f64c...</td>\n",
       "      <td>0.013688</td>\n",
       "    </tr>\n",
       "    <tr>\n",
       "      <th>924617</th>\n",
       "      <td>ffffcf5df59e5e0bba2a5ac4578a34e2b5aa64a1546cd3...</td>\n",
       "      <td>0.832945</td>\n",
       "    </tr>\n",
       "    <tr>\n",
       "      <th>924618</th>\n",
       "      <td>ffffd61f098cc056dbd7d2a21380c4804bbfe60856f475...</td>\n",
       "      <td>0.474532</td>\n",
       "    </tr>\n",
       "    <tr>\n",
       "      <th>924619</th>\n",
       "      <td>ffffddef1fc3643ea179c93245b68dca0f36941cd83977...</td>\n",
       "      <td>0.287148</td>\n",
       "    </tr>\n",
       "    <tr>\n",
       "      <th>924620</th>\n",
       "      <td>fffffa7cf7e453e1acc6a1426475d5cb9400859f82ff61...</td>\n",
       "      <td>0.070376</td>\n",
       "    </tr>\n",
       "  </tbody>\n",
       "</table>\n",
       "<p>924621 rows × 2 columns</p>\n",
       "</div>"
      ],
      "text/plain": [
       "                                              customer_ID  prediction\n",
       "0       00000469ba478561f23a92a868bd366de6f6527a684c9a...    0.029944\n",
       "1       00001bf2e77ff879fab36aa4fac689b9ba411dae63ae39...    0.001422\n",
       "2       0000210045da4f81e5f122c6bde5c2a617d03eef67f82c...    0.049782\n",
       "3       00003b41e58ede33b8daf61ab56d9952f17c9ad1c3976c...    0.245786\n",
       "4       00004b22eaeeeb0ec976890c1d9bfc14fd9427e98c4ee9...    0.865604\n",
       "...                                                   ...         ...\n",
       "924616  ffff952c631f2c911b8a2a8ca56ea6e656309a83d2f64c...    0.013688\n",
       "924617  ffffcf5df59e5e0bba2a5ac4578a34e2b5aa64a1546cd3...    0.832945\n",
       "924618  ffffd61f098cc056dbd7d2a21380c4804bbfe60856f475...    0.474532\n",
       "924619  ffffddef1fc3643ea179c93245b68dca0f36941cd83977...    0.287148\n",
       "924620  fffffa7cf7e453e1acc6a1426475d5cb9400859f82ff61...    0.070376\n",
       "\n",
       "[924621 rows x 2 columns]"
      ]
     },
     "execution_count": 28,
     "metadata": {},
     "output_type": "execute_result"
    }
   ],
   "source": [
    "submission['prediction'] = test_predictions\n",
    "submission.to_csv('lightautoml_tabularautoml.csv', index = False)\n",
    "submission"
   ]
  },
  {
   "cell_type": "markdown",
   "id": "2b737fd2",
   "metadata": {
    "papermill": {
     "duration": 0.049055,
     "end_time": "2022-06-06T20:08:35.976427",
     "exception": false,
     "start_time": "2022-06-06T20:08:35.927372",
     "status": "completed"
    },
    "tags": []
   },
   "source": [
    "# Additional materials"
   ]
  },
  {
   "cell_type": "markdown",
   "id": "15c7b7ee",
   "metadata": {
    "papermill": {
     "duration": 0.048356,
     "end_time": "2022-06-06T20:08:36.073671",
     "exception": false,
     "start_time": "2022-06-06T20:08:36.025315",
     "status": "completed"
    },
    "tags": []
   },
   "source": [
    "- [Official LightAutoML github repo](https://github.com/AILab-MLTools/LightAutoML)\n",
    "- [LightAutoML documentation](https://lightautoml.readthedocs.io/en/latest)\n",
    "- [LightAutoML tutorials](https://github.com/AILab-MLTools/LightAutoML/tree/master/examples/tutorials)\n",
    "- LightAutoML course:\n",
    "    - [Part 1 - general overview](https://ods.ai/tracks/automl-course-part1) \n",
    "    - [Part 2 - LightAutoML specific applications](https://ods.ai/tracks/automl-course-part2)\n",
    "    - [Part 3 - LightAutoML customization](https://ods.ai/tracks/automl-course-part3)\n",
    "- [OpenDataScience AutoML benchmark leaderboard](https://ods.ai/competitions/automl-benchmark/leaderboard)"
   ]
  },
  {
   "cell_type": "markdown",
   "id": "7c080075",
   "metadata": {
    "papermill": {
     "duration": 0.047762,
     "end_time": "2022-06-06T20:08:36.170331",
     "exception": false,
     "start_time": "2022-06-06T20:08:36.122569",
     "status": "completed"
    },
    "tags": []
   },
   "source": [
    "### If you still like the notebook, do not forget to put upvote for the notebook and the ⭐️ for github repo if you like it using the button below - one click for you, great pleasure for us ☺️"
   ]
  },
  {
   "cell_type": "code",
   "execution_count": 29,
   "id": "eb2aa6d4",
   "metadata": {
    "_kg_hide-input": true,
    "execution": {
     "iopub.execute_input": "2022-06-06T20:08:36.269418Z",
     "iopub.status.busy": "2022-06-06T20:08:36.268753Z",
     "iopub.status.idle": "2022-06-06T20:08:36.276487Z",
     "shell.execute_reply": "2022-06-06T20:08:36.275428Z"
    },
    "papermill": {
     "duration": 0.060855,
     "end_time": "2022-06-06T20:08:36.279310",
     "exception": false,
     "start_time": "2022-06-06T20:08:36.218455",
     "status": "completed"
    },
    "tags": []
   },
   "outputs": [
    {
     "name": "stderr",
     "output_type": "stream",
     "text": [
      "/opt/conda/lib/python3.7/site-packages/IPython/core/display.py:724: UserWarning: Consider using IPython.display.IFrame instead\n",
      "  warnings.warn(\"Consider using IPython.display.IFrame instead\")\n"
     ]
    },
    {
     "data": {
      "text/html": [
       "<iframe src=\"https://ghbtns.com/github-btn.html?user=sb-ai-lab&repo=LightAutoML&type=star&count=true&size=large\" frameborder=\"0\" scrolling=\"0\" width=\"170\" height=\"30\" title=\"LightAutoML GitHub\"></iframe>"
      ],
      "text/plain": [
       "<IPython.core.display.HTML object>"
      ]
     },
     "execution_count": 29,
     "metadata": {},
     "output_type": "execute_result"
    }
   ],
   "source": [
    "s = '<iframe src=\"https://ghbtns.com/github-btn.html?user=sb-ai-lab&repo=LightAutoML&type=star&count=true&size=large\" frameborder=\"0\" scrolling=\"0\" width=\"170\" height=\"30\" title=\"LightAutoML GitHub\"></iframe>'\n",
    "HTML(s)"
   ]
  }
 ],
 "metadata": {
  "kernelspec": {
   "display_name": "Python 3",
   "language": "python",
   "name": "python3"
  },
  "language_info": {
   "codemirror_mode": {
    "name": "ipython",
    "version": 3
   },
   "file_extension": ".py",
   "mimetype": "text/x-python",
   "name": "python",
   "nbconvert_exporter": "python",
   "pygments_lexer": "ipython3",
   "version": "3.7.12"
  },
  "papermill": {
   "default_parameters": {},
   "duration": 15946.380849,
   "end_time": "2022-06-06T20:08:39.085883",
   "environment_variables": {},
   "exception": null,
   "input_path": "__notebook__.ipynb",
   "output_path": "__notebook__.ipynb",
   "parameters": {},
   "start_time": "2022-06-06T15:42:52.705034",
   "version": "2.3.4"
  }
 },
 "nbformat": 4,
 "nbformat_minor": 5
}
